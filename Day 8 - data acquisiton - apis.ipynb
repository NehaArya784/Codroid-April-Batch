{
 "cells": [
  {
   "cell_type": "markdown",
   "id": "70b82195",
   "metadata": {},
   "source": [
    "### APIs (Application Programming Interface)"
   ]
  },
  {
   "cell_type": "markdown",
   "id": "191a89a0",
   "metadata": {},
   "source": [
    "```\n",
    "Application------APIs--------Software\n",
    "\n",
    "\n",
    "APIs: Software Apps - Store Protocols/Rules implement \n",
    "    Retrieve data:      getting data\n",
    "    Sending data:       to send data, give data\n",
    "\n",
    "\n",
    "couple of things with APIs:\n",
    "    - systems to communicate and share data\n",
    "    - apis, to automate the process of getting data and integration into analysis\n",
    "    - APIs over internet - HTTPs (protocols) send/receives\n",
    "\n",
    "ANALOGY - similar situation\n",
    "\n",
    "You - Software makes request \n",
    "||\n",
    "waiter - API\n",
    "||\n",
    "food - data\n"
   ]
  },
  {
   "cell_type": "markdown",
   "id": "7c2f3e08",
   "metadata": {},
   "source": [
    "```\n",
    "\n",
    "Use API OpenWeatherMap:\n",
    "\n",
    "1. we send request (Fetch)\n",
    "2. API communicates with the weather db\n",
    "3. API give us data as JSON format"
   ]
  },
  {
   "cell_type": "markdown",
   "id": "ff2a93c9",
   "metadata": {
    "vscode": {
     "languageId": "plaintext"
    }
   },
   "source": [
    "JSON data into => DataFrame?\n"
   ]
  },
  {
   "cell_type": "markdown",
   "id": "f9b8b265",
   "metadata": {},
   "source": [
    "### Dog CEO"
   ]
  },
  {
   "cell_type": "code",
   "execution_count": 41,
   "id": "fc4cb281",
   "metadata": {},
   "outputs": [],
   "source": [
    "#!pip install requests\n",
    "\n",
    "import requests\n"
   ]
  },
  {
   "cell_type": "code",
   "execution_count": 42,
   "id": "2d39cfb1",
   "metadata": {},
   "outputs": [],
   "source": [
    "# API endpoint\n",
    "url = \"https://dog.ceo/api/breeds/image/random\""
   ]
  },
  {
   "cell_type": "code",
   "execution_count": 43,
   "id": "23d32bf1",
   "metadata": {},
   "outputs": [
    {
     "data": {
      "text/plain": [
       "200"
      ]
     },
     "execution_count": 43,
     "metadata": {},
     "output_type": "execute_result"
    }
   ],
   "source": [
    "# GET request to fetch a random dog image\n",
    "response = requests.get(url)\n",
    "response.status_code  # Check if the request was successful"
   ]
  },
  {
   "cell_type": "code",
   "execution_count": null,
   "id": "886701dc",
   "metadata": {},
   "outputs": [
    {
     "name": "stdout",
     "output_type": "stream",
     "text": [
      "Random Dog Image URL below:\n",
      "\n",
      " https://images.dog.ceo/breeds/gaddi-indian/Gaddi.jpg\n"
     ]
    }
   ],
   "source": [
    "if response.status_code == 200:\n",
    "\n",
    "    data = response.json()\n",
    "    \n",
    "    # Extract the image URL from the response\n",
    "    dog_img = data['message']\n",
    "\n",
    "    print(\"Random Dog Image URL below:\\n\\n\",dog_img)\n",
    "\n",
    "else:\n",
    "    print(\"Failed to retrieve data. Status code:\", response.status_code)"
   ]
  },
  {
   "cell_type": "code",
   "execution_count": 45,
   "id": "c6199116",
   "metadata": {},
   "outputs": [
    {
     "data": {
      "text/html": [
       "<img src=\"https://images.dog.ceo/breeds/gaddi-indian/Gaddi.jpg\" width=\"500\" height=\"500\">"
      ],
      "text/plain": [
       "<IPython.core.display.HTML object>"
      ]
     },
     "execution_count": 45,
     "metadata": {},
     "output_type": "execute_result"
    }
   ],
   "source": [
    "# URL, print the actual image of the URL here\n",
    "from IPython.display import HTML\n",
    "\n",
    "HTML(f'<img src=\"{dog_img}\" width=\"500\" height=\"500\">')"
   ]
  },
  {
   "cell_type": "markdown",
   "id": "c377af3b",
   "metadata": {},
   "source": [
    "![](C:\\Users\\devid\\Desktop\\dog.jpg)"
   ]
  },
  {
   "cell_type": "code",
   "execution_count": 52,
   "id": "fac00263",
   "metadata": {},
   "outputs": [
    {
     "name": "stdout",
     "output_type": "stream",
     "text": [
      "Failed to retrieve data. Status code: 404\n"
     ]
    },
    {
     "data": {
      "text/html": [
       "<img src=\"https://images.dog.ceo/breeds/terrier-kerryblue/n02093859_781.jpg\" width=\"500\" height=\"500\">"
      ],
      "text/plain": [
       "<IPython.core.display.HTML object>"
      ]
     },
     "execution_count": 52,
     "metadata": {},
     "output_type": "execute_result"
    }
   ],
   "source": [
    "#!pip install requests\n",
    "\n",
    "import requests\n",
    "\n",
    "# API endpoint\n",
    "url = \"https://dog.ceo/api/breeds/image/rando\"\n",
    "\n",
    "# GET request to fetch a random dog image\n",
    "response = requests.get(url)\n",
    "response.status_code  # Check if the request was successful\n",
    "\n",
    "if response.status_code == 200:\n",
    "\n",
    "    data = response.json()\n",
    "    \n",
    "    # Extract the image URL from the response\n",
    "    dog_img = data['message']\n",
    "\n",
    "    print(\"Random Dog Image URL below:\\n\\n\",dog_img)\n",
    "\n",
    "else:\n",
    "    print(\"Failed to retrieve data. Status code:\", response.status_code)\n",
    "\n",
    "\n",
    "# URL, print the actual image of the URL here\n",
    "from IPython.display import HTML\n",
    "\n",
    "HTML(f'<img src=\"{dog_img}\" width=\"500\" height=\"500\">')"
   ]
  },
  {
   "cell_type": "code",
   "execution_count": null,
   "id": "2e33ea9e",
   "metadata": {},
   "outputs": [],
   "source": []
  },
  {
   "cell_type": "markdown",
   "id": "bf430980",
   "metadata": {},
   "source": [
    "#### 404 - Error Code\n",
    "\n",
    "Not Found!"
   ]
  },
  {
   "cell_type": "markdown",
   "id": "17c521fd",
   "metadata": {},
   "source": [
    "![dog.jpg](C:\\Users\\devid\\Desktop\\dog.jpg)"
   ]
  },
  {
   "cell_type": "markdown",
   "id": "76086e96",
   "metadata": {},
   "source": [
    "<img src=\"C:\\Users\\devid\\Desktop\\dog.jpg\" width=\"400\">"
   ]
  },
  {
   "cell_type": "markdown",
   "id": "14958033",
   "metadata": {},
   "source": []
  }
 ],
 "metadata": {
  "kernelspec": {
   "display_name": "base",
   "language": "python",
   "name": "python3"
  },
  "language_info": {
   "codemirror_mode": {
    "name": "ipython",
    "version": 3
   },
   "file_extension": ".py",
   "mimetype": "text/x-python",
   "name": "python",
   "nbconvert_exporter": "python",
   "pygments_lexer": "ipython3",
   "version": "3.12.4"
  }
 },
 "nbformat": 4,
 "nbformat_minor": 5
}
