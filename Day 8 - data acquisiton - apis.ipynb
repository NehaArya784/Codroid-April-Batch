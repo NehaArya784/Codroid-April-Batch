{
 "cells": [
  {
   "cell_type": "markdown",
   "id": "70b82195",
   "metadata": {},
   "source": [
    "### APIs (Application Programming Interface)"
   ]
  },
  {
   "cell_type": "markdown",
   "id": "191a89a0",
   "metadata": {},
   "source": [
    "```\n",
    "Application------APIs--------Software\n",
    "\n",
    "\n",
    "APIs: Software Apps - Store Protocols/Rules implement \n",
    "    Retrieve data:      getting data\n",
    "    Sending data:       to send data, give data\n",
    "\n",
    "\n",
    "couple of things with APIs:\n",
    "    - systems to communicate and share data\n",
    "    - apis, to automate the process of getting data and integration into analysis\n",
    "    - APIs over internet - HTTPs (protocols) send/receives\n",
    "\n",
    "ANALOGY - similar situation\n",
    "\n",
    "You - Software makes request \n",
    "||\n",
    "waiter - API\n",
    "||\n",
    "food - data\n"
   ]
  },
  {
   "cell_type": "markdown",
   "id": "7c2f3e08",
   "metadata": {},
   "source": [
    "```\n",
    "\n",
    "Use API OpenWeatherMap:\n",
    "\n",
    "1. we send request (Fetch)\n",
    "2. API communicates with the weather db\n",
    "3. API give us data as JSON format"
   ]
  },
  {
   "cell_type": "markdown",
   "id": "ff2a93c9",
   "metadata": {
    "vscode": {
     "languageId": "plaintext"
    }
   },
   "source": [
    "JSON data into => DataFrame?\n"
   ]
  },
  {
   "cell_type": "markdown",
   "id": "f9b8b265",
   "metadata": {},
   "source": [
    "### Dog CEO"
   ]
  },
  {
   "cell_type": "code",
   "execution_count": 55,
   "id": "fc4cb281",
   "metadata": {},
   "outputs": [],
   "source": [
    "#!pip install requests\n",
    "\n",
    "import requests\n"
   ]
  },
  {
   "cell_type": "code",
   "execution_count": 56,
   "id": "2d39cfb1",
   "metadata": {},
   "outputs": [],
   "source": [
    "# API endpoint\n",
    "url = \"https://dog.ceo/api/breeds/image/random\""
   ]
  },
  {
   "cell_type": "code",
   "execution_count": 57,
   "id": "23d32bf1",
   "metadata": {},
   "outputs": [
    {
     "data": {
      "text/plain": [
       "200"
      ]
     },
     "execution_count": 57,
     "metadata": {},
     "output_type": "execute_result"
    }
   ],
   "source": [
    "# GET request to fetch a random dog image\n",
    "response = requests.get(url)\n",
    "response.status_code  # Check if the request was successful"
   ]
  },
  {
   "cell_type": "code",
   "execution_count": 59,
   "id": "4a9e7a51",
   "metadata": {},
   "outputs": [
    {
     "data": {
      "text/plain": [
       "{'message': 'https://images.dog.ceo/breeds/newfoundland/n02111277_4292.jpg',\n",
       " 'status': 'success'}"
      ]
     },
     "execution_count": 59,
     "metadata": {},
     "output_type": "execute_result"
    }
   ],
   "source": [
    "data"
   ]
  },
  {
   "cell_type": "code",
   "execution_count": 58,
   "id": "886701dc",
   "metadata": {},
   "outputs": [
    {
     "name": "stdout",
     "output_type": "stream",
     "text": [
      "Random Dog Image URL below:\n",
      "\n",
      " https://images.dog.ceo/breeds/newfoundland/n02111277_4292.jpg\n"
     ]
    }
   ],
   "source": [
    "if response.status_code == 200:\n",
    "\n",
    "    data = response.json()\n",
    "    \n",
    "    # Extract the image URL from the response\n",
    "    dog_img = data['message']\n",
    "\n",
    "    print(\"Random Dog Image URL below:\\n\\n\",dog_img)\n",
    "\n",
    "else:\n",
    "    print(\"Failed to retrieve data. Status code:\", response.status_code)"
   ]
  },
  {
   "cell_type": "code",
   "execution_count": 60,
   "id": "c6199116",
   "metadata": {},
   "outputs": [
    {
     "data": {
      "text/html": [
       "<img src=\"https://images.dog.ceo/breeds/newfoundland/n02111277_4292.jpg\" width=\"500\" height=\"500\">"
      ],
      "text/plain": [
       "<IPython.core.display.HTML object>"
      ]
     },
     "execution_count": 60,
     "metadata": {},
     "output_type": "execute_result"
    }
   ],
   "source": [
    "# URL, print the actual image of the URL here\n",
    "from IPython.display import HTML\n",
    "\n",
    "HTML(f'<img src=\"{dog_img}\" width=\"500\" height=\"500\">')"
   ]
  },
  {
   "cell_type": "markdown",
   "id": "c377af3b",
   "metadata": {},
   "source": [
    "![](C:\\Users\\devid\\Desktop\\dog.jpg)"
   ]
  },
  {
   "cell_type": "code",
   "execution_count": 69,
   "id": "fac00263",
   "metadata": {},
   "outputs": [
    {
     "name": "stdout",
     "output_type": "stream",
     "text": [
      "Random Dog Image URL below:\n",
      "\n",
      " https://images.dog.ceo/breeds/boxer/n02108089_12232.jpg\n"
     ]
    },
    {
     "data": {
      "text/html": [
       "<img src=\"https://images.dog.ceo/breeds/boxer/n02108089_12232.jpg\" width=\"500\" height=\"500\">"
      ],
      "text/plain": [
       "<IPython.core.display.HTML object>"
      ]
     },
     "execution_count": 69,
     "metadata": {},
     "output_type": "execute_result"
    }
   ],
   "source": [
    "#!pip install requests\n",
    "\n",
    "import requests\n",
    "\n",
    "# API endpoint\n",
    "url = \"https://dog.ceo/api/breeds/image/random\"\n",
    "\n",
    "# GET request to fetch a random dog image\n",
    "response = requests.get(url)\n",
    "response.status_code  # Check if the request was successful\n",
    "\n",
    "if response.status_code == 200:\n",
    "\n",
    "    data = response.json()\n",
    "    \n",
    "    # Extract the image URL from the response\n",
    "    dog_img = data['message']\n",
    "\n",
    "    print(\"Random Dog Image URL below:\\n\\n\",dog_img)\n",
    "\n",
    "else:\n",
    "    print(\"Failed to retrieve data. Status code:\", response.status_code)\n",
    "\n",
    "\n",
    "# URL, print the actual image of the URL here\n",
    "from IPython.display import HTML\n",
    "\n",
    "HTML(f'<img src=\"{dog_img}\" width=\"500\" height=\"500\">')"
   ]
  },
  {
   "cell_type": "code",
   "execution_count": null,
   "id": "2e33ea9e",
   "metadata": {},
   "outputs": [],
   "source": []
  },
  {
   "cell_type": "markdown",
   "id": "bf430980",
   "metadata": {},
   "source": [
    "#### 404 - Error Code\n",
    "\n",
    "Not Found!"
   ]
  },
  {
   "cell_type": "markdown",
   "id": "17c521fd",
   "metadata": {},
   "source": [
    "![dog.jpg](C:\\Users\\devid\\Desktop\\dog.jpg)"
   ]
  },
  {
   "cell_type": "markdown",
   "id": "76086e96",
   "metadata": {},
   "source": [
    "<img src=\"C:\\Users\\devid\\Desktop\\dog.jpg\" width=\"400\">"
   ]
  },
  {
   "cell_type": "markdown",
   "id": "14958033",
   "metadata": {},
   "source": [
    "refresh frequency of 6sec, see a new dog image\n",
    "\n",
    "______ 10s, 1min, 5 mins"
   ]
  },
  {
   "cell_type": "markdown",
   "id": "3827634c",
   "metadata": {},
   "source": [
    "```scipt\n",
    "Activity\n",
    "1. Can run it for 5 minutes,\n",
    "2. save a new image, \n",
    "3. after every 5 seconds\n",
    "\n",
    "Created a new img dataset"
   ]
  },
  {
   "cell_type": "markdown",
   "id": "6ab7c7b8",
   "metadata": {},
   "source": []
  }
 ],
 "metadata": {
  "kernelspec": {
   "display_name": "base",
   "language": "python",
   "name": "python3"
  },
  "language_info": {
   "codemirror_mode": {
    "name": "ipython",
    "version": 3
   },
   "file_extension": ".py",
   "mimetype": "text/x-python",
   "name": "python",
   "nbconvert_exporter": "python",
   "pygments_lexer": "ipython3",
   "version": "3.12.4"
  }
 },
 "nbformat": 4,
 "nbformat_minor": 5
}
