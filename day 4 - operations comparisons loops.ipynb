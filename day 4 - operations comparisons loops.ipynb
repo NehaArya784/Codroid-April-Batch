{
 "cells": [
  {
   "cell_type": "markdown",
   "id": "aa87932c",
   "metadata": {},
   "source": [
    "```+ \n",
    "-\n",
    "*\n",
    "/\n",
    "%\n",
    "\n",
    "comparisons \n",
    "\n",
    "< <= > >= == !="
   ]
  },
  {
   "cell_type": "markdown",
   "id": "e93b26d4",
   "metadata": {},
   "source": [
    "boolean operations:\n",
    "\n",
    "OR \n",
    "AND\n",
    "NOT\n",
    "XOR"
   ]
  },
  {
   "cell_type": "markdown",
   "id": "e050f5dd",
   "metadata": {},
   "source": [
    "```\n",
    "if else\n",
    "\n",
    "while loop\n",
    "\n",
    "for loop\n",
    "\n"
   ]
  },
  {
   "cell_type": "markdown",
   "id": "150620f0",
   "metadata": {},
   "source": []
  }
 ],
 "metadata": {
  "language_info": {
   "name": "python"
  }
 },
 "nbformat": 4,
 "nbformat_minor": 5
}
