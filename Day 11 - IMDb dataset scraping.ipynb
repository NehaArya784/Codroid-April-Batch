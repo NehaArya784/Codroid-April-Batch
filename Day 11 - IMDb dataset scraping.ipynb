{
 "cells": [
  {
   "cell_type": "markdown",
   "id": "1f06f414",
   "metadata": {},
   "source": [
    "1. HTTP request - done\n",
    "2. HTML content, parse- bs4 library - html\n",
    "3. Extract data - target tag, id, \n",
    "4. Store - data json turn into dataframes"
   ]
  },
  {
   "cell_type": "code",
   "execution_count": 1,
   "id": "c20f4771",
   "metadata": {},
   "outputs": [],
   "source": [
    "import requests\n",
    "from bs4 import BeautifulSoup\n",
    "import pandas as pd"
   ]
  },
  {
   "cell_type": "code",
   "execution_count": 6,
   "id": "580cef2c",
   "metadata": {},
   "outputs": [],
   "source": [
    "url = \"https://www.imdb.com/\""
   ]
  },
  {
   "cell_type": "code",
   "execution_count": 7,
   "id": "770a841a",
   "metadata": {},
   "outputs": [
    {
     "data": {
      "text/plain": [
       "403"
      ]
     },
     "execution_count": 7,
     "metadata": {},
     "output_type": "execute_result"
    }
   ],
   "source": [
    "response = requests.get(url)\n",
    "response.status_code"
   ]
  },
  {
   "cell_type": "code",
   "execution_count": 8,
   "id": "37bc9a70",
   "metadata": {},
   "outputs": [],
   "source": [
    "# headers to be used in the request to mimic a browser\n",
    "headers = {\n",
    "    \"User-Agent\": \"Mozilla/5.0 (Windows NT 10.0; Win64; x64) AppleWebKit/537.36 (KHTML, like Gecko) Chrome/58.0.3029.110 Safari/537.3\"}"
   ]
  },
  {
   "cell_type": "code",
   "execution_count": 9,
   "id": "f3a44aae",
   "metadata": {},
   "outputs": [
    {
     "name": "stdout",
     "output_type": "stream",
     "text": [
      "Request was successful\n"
     ]
    }
   ],
   "source": [
    "response = requests.get(url, headers=headers)\n",
    "# Check if the request was successful\n",
    "if response.status_code == 200:\n",
    "    print(\"Request was successful\")\n",
    "else:\n",
    "    print(\"Request failed with status code:\", response.status_code)"
   ]
  },
  {
   "cell_type": "code",
   "execution_count": 12,
   "id": "a3f7bb08",
   "metadata": {},
   "outputs": [
    {
     "name": "stdout",
     "output_type": "stream",
     "text": [
      "<!DOCTYPE html>\n",
      "<html lang=\"en-US\" xmlns:fb=\"http://www.facebook.com/2008/fbml\" xmlns:og=\"http://opengraphprotocol.org/schema/\">\n",
      " <head>\n",
      "  <meta charset=\"utf-8\"/>\n",
      "  <meta content=\"width=device-width\" name=\"viewport\"/>\n",
      "  <script>\n",
      "   if(typeof uet === 'function'){ uet('bb', 'LoadTitle', {wb: 1}); }\n",
      "  </script>\n",
      "  <script>\n",
      "   window.addEventListener('load', (event) => {\n",
      "        if (typeof window.csa !== 'undefined' && typeof window.csa === 'function') {\n",
      "            var csaLatencyPlugin = window.csa('Content', {\n",
      "                element: {\n",
      "                    slotId: 'LoadTitle',\n",
      "                    type: 'service-call'\n",
      "                }\n",
      "            });\n",
      "            csaLatencyPlugin('mark', 'clickToBodyBegin', 1746459037733);\n",
      "        }\n",
      "    })\n",
      "  </script>\n",
      "  <title>\n",
      "   IMDb: Ratings, Reviews, and Where to Watch the Best Movies &amp; TV Shows\n",
      "  </title>\n",
      "  <meta content=\"IMDb is the world's most popular and authoritative source for movie, TV and celebrity content. Find ratings and reviews for the\n"
     ]
    }
   ],
   "source": [
    "soup = BeautifulSoup(response.content, 'html.parser')\n",
    "print(soup.prettify()[:1000])  # Print the first 1000 characters of the parsed HTML"
   ]
  },
  {
   "cell_type": "code",
   "execution_count": null,
   "id": "a527c76f",
   "metadata": {},
   "outputs": [],
   "source": []
  }
 ],
 "metadata": {
  "kernelspec": {
   "display_name": "base",
   "language": "python",
   "name": "python3"
  },
  "language_info": {
   "codemirror_mode": {
    "name": "ipython",
    "version": 3
   },
   "file_extension": ".py",
   "mimetype": "text/x-python",
   "name": "python",
   "nbconvert_exporter": "python",
   "pygments_lexer": "ipython3",
   "version": "3.12.4"
  }
 },
 "nbformat": 4,
 "nbformat_minor": 5
}
