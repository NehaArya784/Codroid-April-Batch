{
 "cells": [
  {
   "cell_type": "markdown",
   "id": "4ed25136",
   "metadata": {},
   "source": [
    "Web Scraping - data store\n",
    "\n",
    "Crawling - Getting into a website - data, access - Search Engines Google etc, crawlers"
   ]
  },
  {
   "cell_type": "markdown",
   "id": "06e545ee",
   "metadata": {},
   "source": [
    "1. HTTP Request\n",
    "2. Response, retrieve web page content\n",
    "3. Parsing HTML - Resolve, parts, describe, take you can make sense of - to get something\n",
    "4. <b>Extract data </b> - criteria, rule, identifier use - movie names - tag, \n",
    "5. Storing \n",
    "\n",
    "Anti Web scraping measures, websites, maneuver around them"
   ]
  },
  {
   "cell_type": "code",
   "execution_count": null,
   "id": "55303389",
   "metadata": {},
   "outputs": [],
   "source": [
    "html_doc = \"\"\"\n",
    "<html>\n",
    "<head>\n",
    "    <title>Document</title>\n",
    "</head> \n",
    "<body>\n",
    "<h1>Welcome to My Web Page</h1>\n",
    "<p>This is a simple HTML document.</p>\n",
    "<p>Here is a list of items:</p>        \n",
    "    <h3>Item List</h3>\n",
    "    <h3>Item 1</h3>\n",
    "    <h3>Item 2</h3>\n",
    "    <h3>Item 3</h3>\n",
    "\n",
    "    <h2>Item 4</h2>\n",
    "    <h2>Item 5</h2>\n",
    "    <h2>Item 6</h2>\n",
    "\n",
    "    <h1>Item 7</h1>\n",
    "    <h1>Item 8</h1>\n",
    "    <h1>Item 9</h1>\n",
    "\n",
    "\n",
    "    <tr>\n",
    "        <td>Item 10</td>\n",
    "        <td>Item 11</td>\n",
    "        <td>Item 12</td>\n",
    "    </tr>\n",
    "         \n",
    "</body>\n",
    "</html>\n",
    "\"\"\""
   ]
  },
  {
   "cell_type": "code",
   "execution_count": 18,
   "id": "132dcd82",
   "metadata": {},
   "outputs": [],
   "source": [
    "from bs4 import BeautifulSoup\n",
    "import pandas as pd\n",
    "\n",
    "soup = BeautifulSoup(html_doc, 'html.parser')"
   ]
  },
  {
   "cell_type": "code",
   "execution_count": null,
   "id": "909ed871",
   "metadata": {},
   "outputs": [
    {
     "name": "stdout",
     "output_type": "stream",
     "text": [
      "[<h3>Item List</h3>, <h3>Item 1</h3>, <h3>Item 2</h3>, <h3>Item 3</h3>]\n"
     ]
    }
   ],
   "source": [
    "# Extracting all <h3> tags\n",
    "h3_tags = soup.find_all('h3')\n",
    "print(h3_tags)\n",
    "\n",
    "# Extracting text from each <h3> tag\n",
    "h3_texts = [tag.get_text() for tag in h3_tags]"
   ]
  },
  {
   "cell_type": "code",
   "execution_count": 33,
   "id": "502d5533",
   "metadata": {},
   "outputs": [
    {
     "data": {
      "text/plain": [
       "'Item 1'"
      ]
     },
     "execution_count": 33,
     "metadata": {},
     "output_type": "execute_result"
    }
   ],
   "source": [
    "soup.find_all('h3')[1].get_text()"
   ]
  },
  {
   "cell_type": "code",
   "execution_count": 37,
   "id": "884cafce",
   "metadata": {},
   "outputs": [],
   "source": [
    "# file system\n",
    "\n",
    "with open('h3_texts.html', 'r') as file:\n",
    "    html_content = file.read()\n",
    "\n",
    "soup1 = BeautifulSoup(html_content, 'html.parser')"
   ]
  },
  {
   "cell_type": "code",
   "execution_count": 38,
   "id": "68f81ade",
   "metadata": {},
   "outputs": [
    {
     "data": {
      "text/plain": [
       "<h1>Welcome to My Web Page</h1>\n",
       "<p>This is a simple HTML document.</p>\n",
       "<p>Here is a list of items:</p>\n",
       "<h3>Item List</h3>\n",
       "<h3>Item 1</h3>\n",
       "<h3>Item 2</h3>\n",
       "<h3>Item 3</h3>\n",
       "<h2>Item 4</h2>\n",
       "<h2>Item 5</h2>\n",
       "<h2>Item 6</h2>\n",
       "<h1>Item 7</h1>\n",
       "<h1>Item 8</h1>\n",
       "<h1>Item 9</h1>"
      ]
     },
     "execution_count": 38,
     "metadata": {},
     "output_type": "execute_result"
    }
   ],
   "source": [
    "soup1"
   ]
  },
  {
   "cell_type": "code",
   "execution_count": null,
   "id": "0efc19ea",
   "metadata": {},
   "outputs": [],
   "source": []
  },
  {
   "cell_type": "code",
   "execution_count": null,
   "id": "e7e5b3a5",
   "metadata": {},
   "outputs": [],
   "source": []
  }
 ],
 "metadata": {
  "kernelspec": {
   "display_name": "base",
   "language": "python",
   "name": "python3"
  },
  "language_info": {
   "codemirror_mode": {
    "name": "ipython",
    "version": 3
   },
   "file_extension": ".py",
   "mimetype": "text/x-python",
   "name": "python",
   "nbconvert_exporter": "python",
   "pygments_lexer": "ipython3",
   "version": "3.12.4"
  }
 },
 "nbformat": 4,
 "nbformat_minor": 5
}
