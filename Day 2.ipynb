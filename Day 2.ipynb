{
 "cells": [
  {
   "cell_type": "markdown",
   "id": "74003941",
   "metadata": {},
   "source": [
    "```\n",
    "humans -> humans\n",
    "\n",
    "\n",
    "Programming -> A way to instruct a computer\n",
    "\n",
    "program - is a set of instructions. \n",
    "\n",
    "No instruction - listen to the user > understand the command > execute\n",
    "\n",
    "\n",
    "\n",
    "operating system - delgate \n",
    "vs code, me the user\n",
    "\n",
    "\n",
    "GUIs - graphical user interfaces - \n",
    "GUI > turned commands > 0 1s\n",
    "\n",
    "Binary System > Electricity > ON / OFF \n",
    "\n",
    "000101010101010101011011 \n",
    "\n",
    "Binary System > number system \n",
    "\n",
    "000     111   \n",
    "\n",
    "\n",
    "Programming languages       >       assembly code        >    Binary form  \n",
    "\n",
    "Python, Java, c, c++              ADD A B,  Mov A B           101 10011 101111  111 10011 101111\n",
    "\n",
    "Resources: \n",
    "Time        Storage/Memory \n",
    "\n",
    "```"
   ]
  },
  {
   "cell_type": "markdown",
   "id": "f5439be0",
   "metadata": {
    "vscode": {
     "languageId": "html"
    }
   },
   "source": [
    "<h1> Test the text </h1>"
   ]
  },
  {
   "cell_type": "markdown",
   "id": "6fc6d259",
   "metadata": {},
   "source": [
    "<h2> test h2"
   ]
  },
  {
   "cell_type": "markdown",
   "id": "b77be977",
   "metadata": {},
   "source": [
    "<h3> test h3"
   ]
  },
  {
   "cell_type": "markdown",
   "id": "06da472c",
   "metadata": {},
   "source": [
    "<h4> test h4"
   ]
  },
  {
   "cell_type": "markdown",
   "id": "6b803211",
   "metadata": {},
   "source": [
    "<h5> test h5"
   ]
  },
  {
   "cell_type": "markdown",
   "id": "c35f148c",
   "metadata": {},
   "source": [
    "<h6> test h6"
   ]
  },
  {
   "cell_type": "code",
   "execution_count": 3,
   "id": "74fcc92b",
   "metadata": {},
   "outputs": [
    {
     "data": {
      "text/plain": [
       "'hello'"
      ]
     },
     "execution_count": 3,
     "metadata": {},
     "output_type": "execute_result"
    }
   ],
   "source": [
    "\"hello\""
   ]
  },
  {
   "cell_type": "code",
   "execution_count": null,
   "id": "6913849f",
   "metadata": {},
   "outputs": [],
   "source": [
    "cc"
   ]
  }
 ],
 "metadata": {
  "kernelspec": {
   "display_name": "base",
   "language": "python",
   "name": "python3"
  },
  "language_info": {
   "codemirror_mode": {
    "name": "ipython",
    "version": 3
   },
   "file_extension": ".py",
   "mimetype": "text/x-python",
   "name": "python",
   "nbconvert_exporter": "python",
   "pygments_lexer": "ipython3",
   "version": "3.12.4"
  }
 },
 "nbformat": 4,
 "nbformat_minor": 5
}
