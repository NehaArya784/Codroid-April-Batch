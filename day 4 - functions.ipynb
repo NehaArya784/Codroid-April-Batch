{
 "cells": [
  {
   "cell_type": "markdown",
   "id": "880a1f11",
   "metadata": {},
   "source": [
    "Function is a block of code\n",
    "\n",
    "repeatedly use it\n",
    "\n",
    "code reusability\n",
    "\n",
    "\n",
    "function declation - you create a function  C C++\n",
    "return type, name, parameters \n",
    "\n",
    "\n",
    "function definition - define the function \n",
    "name, parameter, block/body of code, return\n",
    "\n",
    "return value - output of a function\n",
    "\n",
    "\n",
    "function call - using a function in code, with its arguments\n",
    "\n"
   ]
  },
  {
   "cell_type": "code",
   "execution_count": 33,
   "id": "5829b173",
   "metadata": {},
   "outputs": [
    {
     "name": "stdout",
     "output_type": "stream",
     "text": [
      "Hello, Alice!\n"
     ]
    }
   ],
   "source": [
    "def greet(name):\n",
    "    return f\"Hello, {name}!\"\n",
    "\n",
    "# Example usage\n",
    "print(greet(\"Alice\"))"
   ]
  },
  {
   "cell_type": "code",
   "execution_count": 29,
   "id": "a1011bf9",
   "metadata": {},
   "outputs": [],
   "source": [
    "# function definition\n",
    "# function a,b => parameters\n",
    "def sum(a,b):\n",
    "    y = a + b\n",
    "    return y\n",
    "\n"
   ]
  },
  {
   "cell_type": "code",
   "execution_count": null,
   "id": "885b465a",
   "metadata": {},
   "outputs": [
    {
     "name": "stdout",
     "output_type": "stream",
     "text": [
      "15\n",
      "<class 'int'>\n"
     ]
    }
   ],
   "source": [
    "# Pass arguments to a function, save value in a variable x\n",
    "\n",
    "x = sum(5, 10) # function call\n",
    "\n",
    "print(x)\n",
    "print(type(x))"
   ]
  },
  {
   "cell_type": "code",
   "execution_count": 6,
   "id": "41c7715b",
   "metadata": {},
   "outputs": [
    {
     "name": "stdout",
     "output_type": "stream",
     "text": [
      "15 5 50 2.0 0 2 100000\n"
     ]
    }
   ],
   "source": [
    "def calulator(a,b):\n",
    "    p = a + b\n",
    "    q = a - b\n",
    "    r = a * b\n",
    "    s = a / b\n",
    "    t = a % b\n",
    "    u = a // b\n",
    "    v = a ** b\n",
    "\n",
    "    return p, q, r, s, t, u, v\n",
    "\n",
    "# Example usage\n",
    "a, b, c, d, e, f, g = calulator(10, 5)\n",
    "print(a, b, c, d, e, f, g)"
   ]
  },
  {
   "cell_type": "code",
   "execution_count": null,
   "id": "cef6bf20",
   "metadata": {},
   "outputs": [
    {
     "name": "stdout",
     "output_type": "stream",
     "text": [
      "(20, -10, 75, 0.3333333333333333, 5, 0, 30517578125)\n"
     ]
    }
   ],
   "source": [
    "X = calulator(5,15)\n",
    "print(X)\n",
    "print(type(X))"
   ]
  },
  {
   "cell_type": "code",
   "execution_count": 16,
   "id": "92d6f29e",
   "metadata": {},
   "outputs": [],
   "source": [
    "def sum(a,b):\n",
    "    y = a + b\n",
    "    z = a - b\n",
    "    return y, z"
   ]
  },
  {
   "cell_type": "code",
   "execution_count": 17,
   "id": "353bf1d1",
   "metadata": {},
   "outputs": [
    {
     "name": "stdout",
     "output_type": "stream",
     "text": [
      "15 -5\n"
     ]
    }
   ],
   "source": [
    "p,r = sum(5, 10)\n",
    "print(p,r)"
   ]
  },
  {
   "cell_type": "code",
   "execution_count": null,
   "id": "8d6019f3",
   "metadata": {},
   "outputs": [],
   "source": []
  }
 ],
 "metadata": {
  "kernelspec": {
   "display_name": "base",
   "language": "python",
   "name": "python3"
  },
  "language_info": {
   "codemirror_mode": {
    "name": "ipython",
    "version": 3
   },
   "file_extension": ".py",
   "mimetype": "text/x-python",
   "name": "python",
   "nbconvert_exporter": "python",
   "pygments_lexer": "ipython3",
   "version": "3.12.4"
  }
 },
 "nbformat": 4,
 "nbformat_minor": 5
}
