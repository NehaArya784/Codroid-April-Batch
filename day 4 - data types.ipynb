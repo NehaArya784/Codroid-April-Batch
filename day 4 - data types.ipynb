{
 "cells": [
  {
   "cell_type": "code",
   "execution_count": 8,
   "id": "d394db26",
   "metadata": {},
   "outputs": [
    {
     "name": "stdout",
     "output_type": "stream",
     "text": [
      "100100100100100100100100100100100100100\n"
     ]
    }
   ],
   "source": [
    "a = 100100100100100100100100100100100100100\n",
    "\n",
    "print(a)"
   ]
  },
  {
   "cell_type": "code",
   "execution_count": 13,
   "id": "41ade092",
   "metadata": {},
   "outputs": [
    {
     "name": "stdout",
     "output_type": "stream",
     "text": [
      "3.15\n",
      "3.145\n",
      "3.1455\n"
     ]
    }
   ],
   "source": [
    "# precision = how  many decimal places to show\n",
    "\n",
    "a = 3.145475475\n",
    "\n",
    "print(f\"{a:.2f}\") # 2 decimal places\n",
    "print(f\"{a:.3f}\") # 3 decimal places\n",
    "print(f\"{a:.4f}\") # 4 decimal places"
   ]
  },
  {
   "cell_type": "markdown",
   "id": "94278379",
   "metadata": {},
   "source": [
    "list\n",
    "tuple\n",
    "dictionary\n",
    "\n",
    "\n"
   ]
  }
 ],
 "metadata": {
  "kernelspec": {
   "display_name": "base",
   "language": "python",
   "name": "python3"
  },
  "language_info": {
   "codemirror_mode": {
    "name": "ipython",
    "version": 3
   },
   "file_extension": ".py",
   "mimetype": "text/x-python",
   "name": "python",
   "nbconvert_exporter": "python",
   "pygments_lexer": "ipython3",
   "version": "3.12.4"
  }
 },
 "nbformat": 4,
 "nbformat_minor": 5
}
