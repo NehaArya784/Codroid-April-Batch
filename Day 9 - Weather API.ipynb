{
 "cells": [
  {
   "cell_type": "markdown",
   "id": "d8e86df2",
   "metadata": {},
   "source": [
    "You want weather data for any city in the whole world.\n",
    "\n",
    "London temp,\n",
    "Paris pressure,\n",
    "Arizona winds\n",
    "\n",
    "We cannot use our phone apps, or Google "
   ]
  },
  {
   "cell_type": "markdown",
   "id": "8f78ef82",
   "metadata": {},
   "source": [
    "We can use a publicly available weather API\n",
    "\n",
    "We can fetch data - city - weather data\n",
    "\n"
   ]
  },
  {
   "cell_type": "markdown",
   "id": "fb3686bb",
   "metadata": {},
   "source": [
    "[openweathermap](https://openweathermap.org)"
   ]
  },
  {
   "cell_type": "markdown",
   "id": "6e79ad09",
   "metadata": {},
   "source": []
  },
  {
   "cell_type": "code",
   "execution_count": 1,
   "id": "178512fe",
   "metadata": {},
   "outputs": [],
   "source": [
    "api_key = \"27ff86e7f8f78a76911be517dd17a7c0\""
   ]
  },
  {
   "cell_type": "code",
   "execution_count": 2,
   "id": "b0408a97",
   "metadata": {},
   "outputs": [],
   "source": [
    "import requests\n",
    "import pandas as pd"
   ]
  },
  {
   "cell_type": "code",
   "execution_count": 46,
   "id": "ba7203dd",
   "metadata": {},
   "outputs": [
    {
     "data": {
      "text/plain": [
       "'London'"
      ]
     },
     "execution_count": 46,
     "metadata": {},
     "output_type": "execute_result"
    }
   ],
   "source": [
    "city = input(\"Enter the city name: \")\n",
    "city"
   ]
  },
  {
   "cell_type": "code",
   "execution_count": 47,
   "id": "a08df73f",
   "metadata": {},
   "outputs": [],
   "source": [
    "url = f\"http://api.openweathermap.org/data/2.5/weather?q={city}&appid={api_key}&units=metric\""
   ]
  },
  {
   "cell_type": "code",
   "execution_count": 48,
   "id": "bf5d1d5e",
   "metadata": {},
   "outputs": [
    {
     "name": "stdout",
     "output_type": "stream",
     "text": [
      "200\n"
     ]
    }
   ],
   "source": [
    "response = requests.get(url)\n",
    "print(response.status_code)\n",
    "\n",
    "if response.status_code == 200:\n",
    "    data = response.json()\n",
    "\n",
    "else:\n",
    "    print(\"City not found. Please check the name and try again.\")\n",
    "    exit()\n",
    "    "
   ]
  },
  {
   "cell_type": "code",
   "execution_count": 49,
   "id": "bd1e3585",
   "metadata": {},
   "outputs": [
    {
     "name": "stdout",
     "output_type": "stream",
     "text": [
      "City: London\n",
      "Date and Time: 2025-04-25 21:34:14\n",
      "Temperature: 14.74°C\n",
      "Pressure: 1021 hPa\n",
      "Humidity: 65%\n"
     ]
    }
   ],
   "source": [
    "# Extracting relevant data from the response\n",
    "main_data = data['main']\n",
    "temperature = main_data['temp']\n",
    "pressure = main_data['pressure']\n",
    "humidity = main_data['humidity']\n",
    "timestamp = data['dt']\n",
    "\n",
    "# Convert timestamp to datetime\n",
    "import datetime\n",
    "dt_object = datetime.datetime.fromtimestamp(timestamp)\n",
    "\n",
    "print(\"City:\",city)\n",
    "print(\"Date and Time:\", dt_object.strftime(\"%Y-%m-%d %H:%M:%S\"))\n",
    "print(f\"Temperature: {temperature}°C\")\n",
    "print(f\"Pressure: {pressure} hPa\")  \n",
    "print(f\"Humidity: {humidity}%\")"
   ]
  },
  {
   "cell_type": "code",
   "execution_count": 50,
   "id": "92d26e18",
   "metadata": {},
   "outputs": [],
   "source": [
    "weather_data = {\n",
    "    'City': city,\n",
    "    'Date and Time': dt_object.strftime(\"%Y-%m-%d %H:%M:%S\"),\n",
    "    'Temperature (°C)': temperature,\n",
    "    'Pressure (hPa)': pressure,\n",
    "    'Humidity (%)': humidity\n",
    "}"
   ]
  },
  {
   "cell_type": "code",
   "execution_count": 51,
   "id": "77ebe8bf",
   "metadata": {},
   "outputs": [
    {
     "data": {
      "text/html": [
       "<div>\n",
       "<style scoped>\n",
       "    .dataframe tbody tr th:only-of-type {\n",
       "        vertical-align: middle;\n",
       "    }\n",
       "\n",
       "    .dataframe tbody tr th {\n",
       "        vertical-align: top;\n",
       "    }\n",
       "\n",
       "    .dataframe thead th {\n",
       "        text-align: right;\n",
       "    }\n",
       "</style>\n",
       "<table border=\"1\" class=\"dataframe\">\n",
       "  <thead>\n",
       "    <tr style=\"text-align: right;\">\n",
       "      <th></th>\n",
       "      <th>City</th>\n",
       "      <th>Date and Time</th>\n",
       "      <th>Temperature (°C)</th>\n",
       "      <th>Pressure (hPa)</th>\n",
       "      <th>Humidity (%)</th>\n",
       "    </tr>\n",
       "  </thead>\n",
       "  <tbody>\n",
       "    <tr>\n",
       "      <th>0</th>\n",
       "      <td>London</td>\n",
       "      <td>2025-04-25 21:34:14</td>\n",
       "      <td>14.74</td>\n",
       "      <td>1021</td>\n",
       "      <td>65</td>\n",
       "    </tr>\n",
       "  </tbody>\n",
       "</table>\n",
       "</div>"
      ],
      "text/plain": [
       "     City        Date and Time  Temperature (°C)  Pressure (hPa)  Humidity (%)\n",
       "0  London  2025-04-25 21:34:14             14.74            1021            65"
      ]
     },
     "execution_count": 51,
     "metadata": {},
     "output_type": "execute_result"
    }
   ],
   "source": [
    "df1 = pd.DataFrame([weather_data])\n",
    "\n",
    "df1"
   ]
  },
  {
   "cell_type": "code",
   "execution_count": 64,
   "id": "b9db3f8e",
   "metadata": {},
   "outputs": [
    {
     "name": "stdout",
     "output_type": "stream",
     "text": [
      "200\n",
      "200\n",
      "200\n",
      "200\n",
      "200\n",
      "200\n",
      "200\n",
      "200\n",
      "200\n",
      "200\n",
      "200\n",
      "200\n",
      "200\n",
      "200\n",
      "200\n",
      "200\n"
     ]
    },
    {
     "data": {
      "text/html": [
       "<div>\n",
       "<style scoped>\n",
       "    .dataframe tbody tr th:only-of-type {\n",
       "        vertical-align: middle;\n",
       "    }\n",
       "\n",
       "    .dataframe tbody tr th {\n",
       "        vertical-align: top;\n",
       "    }\n",
       "\n",
       "    .dataframe thead th {\n",
       "        text-align: right;\n",
       "    }\n",
       "</style>\n",
       "<table border=\"1\" class=\"dataframe\">\n",
       "  <thead>\n",
       "    <tr style=\"text-align: right;\">\n",
       "      <th></th>\n",
       "      <th>City</th>\n",
       "      <th>Date and Time</th>\n",
       "      <th>Temperature (°C)</th>\n",
       "      <th>Pressure (hPa)</th>\n",
       "      <th>Humidity (%)</th>\n",
       "    </tr>\n",
       "  </thead>\n",
       "  <tbody>\n",
       "    <tr>\n",
       "      <th>0</th>\n",
       "      <td>London</td>\n",
       "      <td>2025-04-25 21:54:56</td>\n",
       "      <td>14.63</td>\n",
       "      <td>1021</td>\n",
       "      <td>65</td>\n",
       "    </tr>\n",
       "    <tr>\n",
       "      <th>1</th>\n",
       "      <td>New York</td>\n",
       "      <td>2025-04-25 21:56:02</td>\n",
       "      <td>23.01</td>\n",
       "      <td>1023</td>\n",
       "      <td>44</td>\n",
       "    </tr>\n",
       "    <tr>\n",
       "      <th>2</th>\n",
       "      <td>Srinagar</td>\n",
       "      <td>2025-04-25 21:55:00</td>\n",
       "      <td>15.55</td>\n",
       "      <td>1015</td>\n",
       "      <td>39</td>\n",
       "    </tr>\n",
       "    <tr>\n",
       "      <th>3</th>\n",
       "      <td>Paris</td>\n",
       "      <td>2025-04-25 21:58:27</td>\n",
       "      <td>15.80</td>\n",
       "      <td>1019</td>\n",
       "      <td>67</td>\n",
       "    </tr>\n",
       "    <tr>\n",
       "      <th>4</th>\n",
       "      <td>Berlin</td>\n",
       "      <td>2025-04-25 21:55:51</td>\n",
       "      <td>16.64</td>\n",
       "      <td>1019</td>\n",
       "      <td>39</td>\n",
       "    </tr>\n",
       "    <tr>\n",
       "      <th>5</th>\n",
       "      <td>Ambala</td>\n",
       "      <td>2025-04-25 21:59:18</td>\n",
       "      <td>30.55</td>\n",
       "      <td>1003</td>\n",
       "      <td>8</td>\n",
       "    </tr>\n",
       "    <tr>\n",
       "      <th>6</th>\n",
       "      <td>Delhi</td>\n",
       "      <td>2025-04-25 21:53:48</td>\n",
       "      <td>33.05</td>\n",
       "      <td>1003</td>\n",
       "      <td>16</td>\n",
       "    </tr>\n",
       "    <tr>\n",
       "      <th>7</th>\n",
       "      <td>Naraingarh</td>\n",
       "      <td>2025-04-25 22:01:39</td>\n",
       "      <td>29.85</td>\n",
       "      <td>1003</td>\n",
       "      <td>8</td>\n",
       "    </tr>\n",
       "    <tr>\n",
       "      <th>8</th>\n",
       "      <td>Mumbai</td>\n",
       "      <td>2025-04-25 22:00:12</td>\n",
       "      <td>28.55</td>\n",
       "      <td>1009</td>\n",
       "      <td>71</td>\n",
       "    </tr>\n",
       "    <tr>\n",
       "      <th>9</th>\n",
       "      <td>Tokyo</td>\n",
       "      <td>2025-04-25 21:58:14</td>\n",
       "      <td>16.36</td>\n",
       "      <td>1011</td>\n",
       "      <td>53</td>\n",
       "    </tr>\n",
       "    <tr>\n",
       "      <th>10</th>\n",
       "      <td>Beijing</td>\n",
       "      <td>2025-04-25 22:01:08</td>\n",
       "      <td>14.94</td>\n",
       "      <td>1012</td>\n",
       "      <td>26</td>\n",
       "    </tr>\n",
       "    <tr>\n",
       "      <th>11</th>\n",
       "      <td>Seoul</td>\n",
       "      <td>2025-04-25 21:52:11</td>\n",
       "      <td>7.76</td>\n",
       "      <td>1018</td>\n",
       "      <td>57</td>\n",
       "    </tr>\n",
       "    <tr>\n",
       "      <th>12</th>\n",
       "      <td>Bangkok</td>\n",
       "      <td>2025-04-25 22:01:08</td>\n",
       "      <td>30.94</td>\n",
       "      <td>1008</td>\n",
       "      <td>70</td>\n",
       "    </tr>\n",
       "    <tr>\n",
       "      <th>13</th>\n",
       "      <td>Singapore</td>\n",
       "      <td>2025-04-25 21:59:00</td>\n",
       "      <td>27.34</td>\n",
       "      <td>1010</td>\n",
       "      <td>86</td>\n",
       "    </tr>\n",
       "    <tr>\n",
       "      <th>14</th>\n",
       "      <td>Dubai</td>\n",
       "      <td>2025-04-25 21:56:31</td>\n",
       "      <td>29.96</td>\n",
       "      <td>1006</td>\n",
       "      <td>62</td>\n",
       "    </tr>\n",
       "    <tr>\n",
       "      <th>15</th>\n",
       "      <td>Cairo</td>\n",
       "      <td>2025-04-25 21:57:27</td>\n",
       "      <td>25.42</td>\n",
       "      <td>1010</td>\n",
       "      <td>38</td>\n",
       "    </tr>\n",
       "  </tbody>\n",
       "</table>\n",
       "</div>"
      ],
      "text/plain": [
       "          City        Date and Time  Temperature (°C)  Pressure (hPa)  \\\n",
       "0       London  2025-04-25 21:54:56             14.63            1021   \n",
       "1     New York  2025-04-25 21:56:02             23.01            1023   \n",
       "2     Srinagar  2025-04-25 21:55:00             15.55            1015   \n",
       "3        Paris  2025-04-25 21:58:27             15.80            1019   \n",
       "4       Berlin  2025-04-25 21:55:51             16.64            1019   \n",
       "5       Ambala  2025-04-25 21:59:18             30.55            1003   \n",
       "6        Delhi  2025-04-25 21:53:48             33.05            1003   \n",
       "7   Naraingarh  2025-04-25 22:01:39             29.85            1003   \n",
       "8       Mumbai  2025-04-25 22:00:12             28.55            1009   \n",
       "9        Tokyo  2025-04-25 21:58:14             16.36            1011   \n",
       "10     Beijing  2025-04-25 22:01:08             14.94            1012   \n",
       "11       Seoul  2025-04-25 21:52:11              7.76            1018   \n",
       "12     Bangkok  2025-04-25 22:01:08             30.94            1008   \n",
       "13   Singapore  2025-04-25 21:59:00             27.34            1010   \n",
       "14       Dubai  2025-04-25 21:56:31             29.96            1006   \n",
       "15       Cairo  2025-04-25 21:57:27             25.42            1010   \n",
       "\n",
       "    Humidity (%)  \n",
       "0             65  \n",
       "1             44  \n",
       "2             39  \n",
       "3             67  \n",
       "4             39  \n",
       "5              8  \n",
       "6             16  \n",
       "7              8  \n",
       "8             71  \n",
       "9             53  \n",
       "10            26  \n",
       "11            57  \n",
       "12            70  \n",
       "13            86  \n",
       "14            62  \n",
       "15            38  "
      ]
     },
     "execution_count": 64,
     "metadata": {},
     "output_type": "execute_result"
    }
   ],
   "source": [
    "# if you want to get data of 5 cities at once, what will you do?\n",
    "\n",
    "# use a for loop to iterate over a list of cities and store the data in a list of dictionaries\n",
    "cities = [\"London\", \"New York\", \"Srinagar\", \"Paris\", \"Berlin\", \"Ambala\", \"Delhi\", \"Naraingarh\", \"Mumbai\", \"Tokyo\", \"Beijing\", \"Seoul\", \"Bangkok\", \"Singapore\", \"Dubai\", \"Cairo\"]\n",
    "\n",
    "weather_data_list = []\n",
    "\n",
    "for city in cities:\n",
    "    url = f\"http://api.openweathermap.org/data/2.5/weather?q={city}&appid={api_key}&units=metric\"\n",
    "    \n",
    "    response = requests.get(url)\n",
    "    print(response.status_code)\n",
    "\n",
    "    if response.status_code == 200:\n",
    "        data = response.json()\n",
    "\n",
    "    else:\n",
    "        print(\"City not found. Please check the name and try again.\")\n",
    "        exit()\n",
    "\n",
    "    # Extracting relevant data from the response\n",
    "    main_data = data['main']\n",
    "    temperature = main_data['temp']\n",
    "    pressure = main_data['pressure']\n",
    "    humidity = main_data['humidity']\n",
    "    timestamp = data['dt']\n",
    "\n",
    "    # Convert timestamp to datetime\n",
    "    import datetime\n",
    "    dt_object = datetime.datetime.fromtimestamp(timestamp)\n",
    "        \n",
    "    \n",
    "    weather_data = {\n",
    "        'City': city,\n",
    "        'Date and Time': dt_object.strftime(\"%Y-%m-%d %H:%M:%S\"),\n",
    "        'Temperature (°C)': temperature,\n",
    "        'Pressure (hPa)': pressure,\n",
    "        'Humidity (%)': humidity\n",
    "    }\n",
    "    weather_data_list.append(weather_data)\n",
    "\n",
    "df = pd.DataFrame(weather_data_list)\n",
    "df"
   ]
  },
  {
   "cell_type": "markdown",
   "id": "181249f0",
   "metadata": {},
   "source": [
    "### How can you store data for Ambala city over a day (6 hours)\n",
    "### Data records, should be saved after 10-15 minutes [Refresh Rate/ Frequency]"
   ]
  },
  {
   "cell_type": "code",
   "execution_count": null,
   "id": "68883a03",
   "metadata": {},
   "outputs": [],
   "source": []
  },
  {
   "cell_type": "code",
   "execution_count": null,
   "id": "a7e46743",
   "metadata": {},
   "outputs": [],
   "source": []
  },
  {
   "cell_type": "code",
   "execution_count": null,
   "id": "c8b56bf6",
   "metadata": {},
   "outputs": [],
   "source": []
  },
  {
   "cell_type": "code",
   "execution_count": null,
   "id": "c1572ec0",
   "metadata": {},
   "outputs": [],
   "source": []
  },
  {
   "cell_type": "code",
   "execution_count": 30,
   "id": "27e90d7e",
   "metadata": {},
   "outputs": [
    {
     "data": {
      "text/plain": [
       "{'coord': {'lon': -0.1257, 'lat': 51.5085},\n",
       " 'weather': [{'id': 803,\n",
       "   'main': 'Clouds',\n",
       "   'description': 'broken clouds',\n",
       "   'icon': '04d'}],\n",
       " 'base': 'stations',\n",
       " 'main': {'temp': 14.85,\n",
       "  'feels_like': 14.09,\n",
       "  'temp_min': 13.86,\n",
       "  'temp_max': 16.54,\n",
       "  'pressure': 1021,\n",
       "  'humidity': 65,\n",
       "  'sea_level': 1021,\n",
       "  'grnd_level': 1017},\n",
       " 'visibility': 10000,\n",
       " 'wind': {'speed': 4.63, 'deg': 80},\n",
       " 'clouds': {'all': 75},\n",
       " 'dt': 1745594751,\n",
       " 'sys': {'type': 2,\n",
       "  'id': 2091269,\n",
       "  'country': 'GB',\n",
       "  'sunrise': 1745556218,\n",
       "  'sunset': 1745608377},\n",
       " 'timezone': 3600,\n",
       " 'id': 2643743,\n",
       " 'name': 'London',\n",
       " 'cod': 200}"
      ]
     },
     "execution_count": 30,
     "metadata": {},
     "output_type": "execute_result"
    }
   ],
   "source": [
    "data"
   ]
  },
  {
   "cell_type": "code",
   "execution_count": null,
   "id": "d1a98053",
   "metadata": {},
   "outputs": [],
   "source": []
  },
  {
   "cell_type": "code",
   "execution_count": null,
   "id": "cd072b4e",
   "metadata": {},
   "outputs": [],
   "source": []
  },
  {
   "cell_type": "code",
   "execution_count": null,
   "id": "470724f5",
   "metadata": {},
   "outputs": [],
   "source": []
  },
  {
   "cell_type": "code",
   "execution_count": null,
   "id": "156d14b4",
   "metadata": {},
   "outputs": [],
   "source": []
  },
  {
   "cell_type": "code",
   "execution_count": null,
   "id": "a062ee39",
   "metadata": {},
   "outputs": [],
   "source": [
    "weather_data = {\n",
    "        \"City\": data[\"name\"],\n",
    "        \"Temperature (°C)\": data[\"main\"][\"temp\"],\n",
    "        \"Humidity (%)\": data[\"main\"][\"humidity\"],\n",
    "        \"Weather\": data[\"weather\"][0][\"description\"]\n",
    "    }\n",
    "    df = pd.DataFrame([weather_data])\n",
    "    print(df)"
   ]
  }
 ],
 "metadata": {
  "kernelspec": {
   "display_name": "base",
   "language": "python",
   "name": "python3"
  },
  "language_info": {
   "codemirror_mode": {
    "name": "ipython",
    "version": 3
   },
   "file_extension": ".py",
   "mimetype": "text/x-python",
   "name": "python",
   "nbconvert_exporter": "python",
   "pygments_lexer": "ipython3",
   "version": "3.12.4"
  }
 },
 "nbformat": 4,
 "nbformat_minor": 5
}
