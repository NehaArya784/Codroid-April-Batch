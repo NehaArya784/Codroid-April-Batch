{
 "cells": [
  {
   "cell_type": "markdown",
   "id": "d8e86df2",
   "metadata": {},
   "source": [
    "You want weather data for any city in the whole world.\n",
    "\n",
    "London temp,\n",
    "Paris pressure,\n",
    "Arizona winds\n",
    "\n",
    "We cannot use our phone apps, or Google "
   ]
  },
  {
   "cell_type": "markdown",
   "id": "8f78ef82",
   "metadata": {},
   "source": [
    "We can use a publicly available weather API\n",
    "\n",
    "We can fetch data - city - weather data\n",
    "\n"
   ]
  },
  {
   "cell_type": "markdown",
   "id": "fb3686bb",
   "metadata": {},
   "source": [
    "[openweathermap](https://openweathermap.org)"
   ]
  },
  {
   "cell_type": "markdown",
   "id": "6e79ad09",
   "metadata": {},
   "source": []
  },
  {
   "cell_type": "code",
   "execution_count": 4,
   "id": "178512fe",
   "metadata": {},
   "outputs": [],
   "source": [
    "api_key = \"27ff86e7f8f78a76911be517dd17a7c0\""
   ]
  },
  {
   "cell_type": "code",
   "execution_count": 5,
   "id": "b0408a97",
   "metadata": {},
   "outputs": [],
   "source": [
    "import requests\n",
    "import pandas as pd"
   ]
  },
  {
   "cell_type": "code",
   "execution_count": 6,
   "id": "ba7203dd",
   "metadata": {},
   "outputs": [
    {
     "data": {
      "text/plain": [
       "'Ambala'"
      ]
     },
     "execution_count": 6,
     "metadata": {},
     "output_type": "execute_result"
    }
   ],
   "source": [
    "# taking input from a user\n",
    "city = input(\"Enter the city name: \")\n",
    "city"
   ]
  },
  {
   "cell_type": "code",
   "execution_count": 7,
   "id": "a08df73f",
   "metadata": {},
   "outputs": [
    {
     "data": {
      "text/plain": [
       "'http://api.openweathermap.org/data/2.5/weather?q=Ambala&appid=27ff86e7f8f78a76911be517dd17a7c0&units=metric'"
      ]
     },
     "execution_count": 7,
     "metadata": {},
     "output_type": "execute_result"
    }
   ],
   "source": [
    "url = f\"http://api.openweathermap.org/data/2.5/weather?q={city}&appid={api_key}&units=metric\"\n",
    "url"
   ]
  },
  {
   "cell_type": "code",
   "execution_count": null,
   "id": "bf5d1d5e",
   "metadata": {},
   "outputs": [
    {
     "name": "stdout",
     "output_type": "stream",
     "text": [
      "200\n",
      "Success! The URL is correct and the API is responding.\n"
     ]
    }
   ],
   "source": [
    "# to check whether the URL is correct and it is responding or not\n",
    "\n",
    "response = requests.get(url)\n",
    "print(response.status_code)\n",
    "\n",
    "if response.status_code == 200:\n",
    "    print(\"Success! The URL is correct and the API is responding.\")\n",
    "    data = response.json()\n",
    "\n",
    "else:\n",
    "    print(\"City not found. Please check the name and try again.\")\n",
    "    exit()\n",
    "    "
   ]
  },
  {
   "cell_type": "markdown",
   "id": "39193218",
   "metadata": {},
   "source": [
    "<h6>200 - successful response </br>\n",
    "404 - not found </br>\n",
    "400 - bad request"
   ]
  },
  {
   "cell_type": "code",
   "execution_count": 11,
   "id": "3885c5b5",
   "metadata": {},
   "outputs": [
    {
     "data": {
      "text/plain": [
       "{'coord': {'lon': 76.7808, 'lat': 30.3783},\n",
       " 'weather': [{'id': 800,\n",
       "   'main': 'Clear',\n",
       "   'description': 'clear sky',\n",
       "   'icon': '01n'}],\n",
       " 'base': 'stations',\n",
       " 'main': {'temp': 33.38,\n",
       "  'feels_like': 30.93,\n",
       "  'temp_min': 33.38,\n",
       "  'temp_max': 33.38,\n",
       "  'pressure': 1002,\n",
       "  'humidity': 10,\n",
       "  'sea_level': 1002,\n",
       "  'grnd_level': 971},\n",
       " 'visibility': 10000,\n",
       " 'wind': {'speed': 2.87, 'deg': 233, 'gust': 2.79},\n",
       " 'clouds': {'all': 0},\n",
       " 'dt': 1745852140,\n",
       " 'sys': {'country': 'IN', 'sunrise': 1745799136, 'sunset': 1745846895},\n",
       " 'timezone': 19800,\n",
       " 'id': 1278860,\n",
       " 'name': 'Ambāla',\n",
       " 'cod': 200}"
      ]
     },
     "execution_count": 11,
     "metadata": {},
     "output_type": "execute_result"
    }
   ],
   "source": [
    "data"
   ]
  },
  {
   "cell_type": "code",
   "execution_count": 14,
   "id": "bd1e3585",
   "metadata": {},
   "outputs": [
    {
     "name": "stdout",
     "output_type": "stream",
     "text": [
      "City: Ambala\n",
      "Date and Time: 2025-04-28 20:25:40\n",
      "Temperature: 33.38°C\n",
      "Pressure: 1002 hPa\n",
      "Humidity: 10%\n"
     ]
    }
   ],
   "source": [
    "# Extracting relevant data from the response\n",
    "main_data = data['main']\n",
    "temperature = main_data['temp']\n",
    "pressure = main_data['pressure']\n",
    "humidity = main_data['humidity']\n",
    "timestamp = data['dt']\n",
    "\n",
    "# Convert timestamp to datetime\n",
    "import datetime\n",
    "dt_object = datetime.datetime.fromtimestamp(timestamp)\n",
    "\n",
    "print(\"City:\",city)\n",
    "print(\"Date and Time:\", dt_object.strftime(\"%Y-%m-%d %H:%M:%S\"))\n",
    "\n",
    "print(f\"Temperature: {temperature}°C\")\n",
    "print(f\"Pressure: {pressure} hPa\")  \n",
    "print(f\"Humidity: {humidity}%\")"
   ]
  },
  {
   "cell_type": "code",
   "execution_count": 16,
   "id": "92d26e18",
   "metadata": {},
   "outputs": [],
   "source": [
    "weather_data = {\n",
    "    'City': city,\n",
    "    'Date and Time': dt_object.strftime(\"%Y-%m-%d %H:%M:%S\"),\n",
    "    'Temperature (°C)': temperature,\n",
    "    'Pressure (hPa)': pressure,\n",
    "    'Humidity (%)': humidity\n",
    "}"
   ]
  },
  {
   "cell_type": "code",
   "execution_count": 17,
   "id": "77ebe8bf",
   "metadata": {},
   "outputs": [
    {
     "data": {
      "text/html": [
       "<div>\n",
       "<style scoped>\n",
       "    .dataframe tbody tr th:only-of-type {\n",
       "        vertical-align: middle;\n",
       "    }\n",
       "\n",
       "    .dataframe tbody tr th {\n",
       "        vertical-align: top;\n",
       "    }\n",
       "\n",
       "    .dataframe thead th {\n",
       "        text-align: right;\n",
       "    }\n",
       "</style>\n",
       "<table border=\"1\" class=\"dataframe\">\n",
       "  <thead>\n",
       "    <tr style=\"text-align: right;\">\n",
       "      <th></th>\n",
       "      <th>City</th>\n",
       "      <th>Date and Time</th>\n",
       "      <th>Temperature (°C)</th>\n",
       "      <th>Pressure (hPa)</th>\n",
       "      <th>Humidity (%)</th>\n",
       "    </tr>\n",
       "  </thead>\n",
       "  <tbody>\n",
       "    <tr>\n",
       "      <th>0</th>\n",
       "      <td>Ambala</td>\n",
       "      <td>2025-04-28 20:25:40</td>\n",
       "      <td>33.38</td>\n",
       "      <td>1002</td>\n",
       "      <td>10</td>\n",
       "    </tr>\n",
       "  </tbody>\n",
       "</table>\n",
       "</div>"
      ],
      "text/plain": [
       "     City        Date and Time  Temperature (°C)  Pressure (hPa)  Humidity (%)\n",
       "0  Ambala  2025-04-28 20:25:40             33.38            1002            10"
      ]
     },
     "execution_count": 17,
     "metadata": {},
     "output_type": "execute_result"
    }
   ],
   "source": [
    "df1 = pd.DataFrame([weather_data])\n",
    "\n",
    "df1"
   ]
  },
  {
   "cell_type": "code",
   "execution_count": null,
   "id": "cf86a583",
   "metadata": {},
   "outputs": [],
   "source": []
  },
  {
   "cell_type": "code",
   "execution_count": 22,
   "id": "b9db3f8e",
   "metadata": {},
   "outputs": [
    {
     "name": "stdout",
     "output_type": "stream",
     "text": [
      "200\n",
      "200\n",
      "200\n",
      "200\n",
      "200\n",
      "200\n",
      "200\n",
      "200\n",
      "200\n",
      "200\n",
      "200\n",
      "200\n",
      "200\n",
      "200\n",
      "200\n",
      "200\n"
     ]
    },
    {
     "data": {
      "text/html": [
       "<div>\n",
       "<style scoped>\n",
       "    .dataframe tbody tr th:only-of-type {\n",
       "        vertical-align: middle;\n",
       "    }\n",
       "\n",
       "    .dataframe tbody tr th {\n",
       "        vertical-align: top;\n",
       "    }\n",
       "\n",
       "    .dataframe thead th {\n",
       "        text-align: right;\n",
       "    }\n",
       "</style>\n",
       "<table border=\"1\" class=\"dataframe\">\n",
       "  <thead>\n",
       "    <tr style=\"text-align: right;\">\n",
       "      <th></th>\n",
       "      <th>City</th>\n",
       "      <th>Date and Time</th>\n",
       "      <th>Temperature (°C)</th>\n",
       "      <th>Pressure (hPa)</th>\n",
       "      <th>Humidity (%)</th>\n",
       "    </tr>\n",
       "  </thead>\n",
       "  <tbody>\n",
       "    <tr>\n",
       "      <th>0</th>\n",
       "      <td>London</td>\n",
       "      <td>2025-04-28 20:35:17</td>\n",
       "      <td>21.47</td>\n",
       "      <td>1025</td>\n",
       "      <td>43</td>\n",
       "    </tr>\n",
       "    <tr>\n",
       "      <th>1</th>\n",
       "      <td>New York</td>\n",
       "      <td>2025-04-28 20:35:00</td>\n",
       "      <td>20.15</td>\n",
       "      <td>1026</td>\n",
       "      <td>32</td>\n",
       "    </tr>\n",
       "    <tr>\n",
       "      <th>2</th>\n",
       "      <td>Srinagar</td>\n",
       "      <td>2025-04-28 20:45:42</td>\n",
       "      <td>16.41</td>\n",
       "      <td>1014</td>\n",
       "      <td>31</td>\n",
       "    </tr>\n",
       "    <tr>\n",
       "      <th>3</th>\n",
       "      <td>Paris</td>\n",
       "      <td>2025-04-28 20:38:10</td>\n",
       "      <td>23.36</td>\n",
       "      <td>1024</td>\n",
       "      <td>41</td>\n",
       "    </tr>\n",
       "    <tr>\n",
       "      <th>4</th>\n",
       "      <td>Berlin</td>\n",
       "      <td>2025-04-28 20:46:13</td>\n",
       "      <td>21.59</td>\n",
       "      <td>1024</td>\n",
       "      <td>26</td>\n",
       "    </tr>\n",
       "    <tr>\n",
       "      <th>5</th>\n",
       "      <td>Ambala</td>\n",
       "      <td>2025-04-28 20:41:56</td>\n",
       "      <td>33.38</td>\n",
       "      <td>1002</td>\n",
       "      <td>10</td>\n",
       "    </tr>\n",
       "    <tr>\n",
       "      <th>6</th>\n",
       "      <td>Delhi</td>\n",
       "      <td>2025-04-28 20:41:33</td>\n",
       "      <td>38.34</td>\n",
       "      <td>1002</td>\n",
       "      <td>7</td>\n",
       "    </tr>\n",
       "    <tr>\n",
       "      <th>7</th>\n",
       "      <td>Naraingarh</td>\n",
       "      <td>2025-04-28 20:46:13</td>\n",
       "      <td>30.80</td>\n",
       "      <td>1002</td>\n",
       "      <td>13</td>\n",
       "    </tr>\n",
       "    <tr>\n",
       "      <th>8</th>\n",
       "      <td>Mumbai</td>\n",
       "      <td>2025-04-28 20:42:25</td>\n",
       "      <td>29.10</td>\n",
       "      <td>1007</td>\n",
       "      <td>74</td>\n",
       "    </tr>\n",
       "    <tr>\n",
       "      <th>9</th>\n",
       "      <td>Tokyo</td>\n",
       "      <td>2025-04-28 20:41:21</td>\n",
       "      <td>15.05</td>\n",
       "      <td>1000</td>\n",
       "      <td>80</td>\n",
       "    </tr>\n",
       "    <tr>\n",
       "      <th>10</th>\n",
       "      <td>Beijing</td>\n",
       "      <td>2025-04-28 20:31:53</td>\n",
       "      <td>16.56</td>\n",
       "      <td>1012</td>\n",
       "      <td>23</td>\n",
       "    </tr>\n",
       "    <tr>\n",
       "      <th>11</th>\n",
       "      <td>Seoul</td>\n",
       "      <td>2025-04-28 20:34:18</td>\n",
       "      <td>13.91</td>\n",
       "      <td>1012</td>\n",
       "      <td>23</td>\n",
       "    </tr>\n",
       "    <tr>\n",
       "      <th>12</th>\n",
       "      <td>Bangkok</td>\n",
       "      <td>2025-04-28 20:40:07</td>\n",
       "      <td>28.99</td>\n",
       "      <td>1009</td>\n",
       "      <td>61</td>\n",
       "    </tr>\n",
       "    <tr>\n",
       "      <th>13</th>\n",
       "      <td>Singapore</td>\n",
       "      <td>2025-04-28 20:40:51</td>\n",
       "      <td>28.66</td>\n",
       "      <td>1010</td>\n",
       "      <td>80</td>\n",
       "    </tr>\n",
       "    <tr>\n",
       "      <th>14</th>\n",
       "      <td>Dubai</td>\n",
       "      <td>2025-04-28 20:39:58</td>\n",
       "      <td>36.15</td>\n",
       "      <td>1004</td>\n",
       "      <td>22</td>\n",
       "    </tr>\n",
       "    <tr>\n",
       "      <th>15</th>\n",
       "      <td>Cairo</td>\n",
       "      <td>2025-04-28 20:38:27</td>\n",
       "      <td>30.22</td>\n",
       "      <td>1010</td>\n",
       "      <td>19</td>\n",
       "    </tr>\n",
       "  </tbody>\n",
       "</table>\n",
       "</div>"
      ],
      "text/plain": [
       "          City        Date and Time  Temperature (°C)  Pressure (hPa)  \\\n",
       "0       London  2025-04-28 20:35:17             21.47            1025   \n",
       "1     New York  2025-04-28 20:35:00             20.15            1026   \n",
       "2     Srinagar  2025-04-28 20:45:42             16.41            1014   \n",
       "3        Paris  2025-04-28 20:38:10             23.36            1024   \n",
       "4       Berlin  2025-04-28 20:46:13             21.59            1024   \n",
       "5       Ambala  2025-04-28 20:41:56             33.38            1002   \n",
       "6        Delhi  2025-04-28 20:41:33             38.34            1002   \n",
       "7   Naraingarh  2025-04-28 20:46:13             30.80            1002   \n",
       "8       Mumbai  2025-04-28 20:42:25             29.10            1007   \n",
       "9        Tokyo  2025-04-28 20:41:21             15.05            1000   \n",
       "10     Beijing  2025-04-28 20:31:53             16.56            1012   \n",
       "11       Seoul  2025-04-28 20:34:18             13.91            1012   \n",
       "12     Bangkok  2025-04-28 20:40:07             28.99            1009   \n",
       "13   Singapore  2025-04-28 20:40:51             28.66            1010   \n",
       "14       Dubai  2025-04-28 20:39:58             36.15            1004   \n",
       "15       Cairo  2025-04-28 20:38:27             30.22            1010   \n",
       "\n",
       "    Humidity (%)  \n",
       "0             43  \n",
       "1             32  \n",
       "2             31  \n",
       "3             41  \n",
       "4             26  \n",
       "5             10  \n",
       "6              7  \n",
       "7             13  \n",
       "8             74  \n",
       "9             80  \n",
       "10            23  \n",
       "11            23  \n",
       "12            61  \n",
       "13            80  \n",
       "14            22  \n",
       "15            19  "
      ]
     },
     "execution_count": 22,
     "metadata": {},
     "output_type": "execute_result"
    }
   ],
   "source": [
    "# if you want to get data of 5 cities at once, what will you do?\n",
    "\n",
    "# use a for loop to iterate over a list of cities and store the data in a list of dictionaries\n",
    "cities = [\"London\", \"New York\", \"Srinagar\", \"Paris\", \"Berlin\", \"Ambala\", \"Delhi\", \"Naraingarh\", \"Mumbai\", \"Tokyo\", \"Beijing\", \"Seoul\", \"Bangkok\", \"Singapore\", \"Dubai\", \"Cairo\"]\n",
    "\n",
    "weather_data_list = []\n",
    "\n",
    "for city in cities:\n",
    "    url = f\"http://api.openweathermap.org/data/2.5/weather?q={city}&appid={api_key}&units=metric\"\n",
    "    \n",
    "    response = requests.get(url)\n",
    "    print(response.status_code)\n",
    "\n",
    "    if response.status_code == 200:\n",
    "        data = response.json()\n",
    "\n",
    "    else:\n",
    "        print(\"City not found. Please check the name and try again.\")\n",
    "        exit()\n",
    "\n",
    "    # Extracting relevant data from the response\n",
    "    main_data = data['main']\n",
    "    temperature = main_data['temp']\n",
    "    pressure = main_data['pressure']\n",
    "    humidity = main_data['humidity']\n",
    "    timestamp = data['dt']\n",
    "\n",
    "    # Convert timestamp to datetime\n",
    "    import datetime\n",
    "    dt_object = datetime.datetime.fromtimestamp(timestamp)\n",
    "        \n",
    "    \n",
    "    weather_data = {\n",
    "        'City': city,\n",
    "        'Date and Time': dt_object.strftime(\"%Y-%m-%d %H:%M:%S\"),\n",
    "        'Temperature (°C)': temperature,\n",
    "        'Pressure (hPa)': pressure,\n",
    "        'Humidity (%)': humidity\n",
    "    }\n",
    "    weather_data_list.append(weather_data)\n",
    "\n",
    "df = pd.DataFrame(weather_data_list)\n",
    "df"
   ]
  },
  {
   "cell_type": "markdown",
   "id": "181249f0",
   "metadata": {},
   "source": [
    "<h5> How can you store data for Ambala city over a day (6 hours)\n",
    "<h5> Data records, should be saved after 10-15 minutes [Refresh Rate/ Frequency]\n",
    "\n",
    "<h3> Take 3 cities, collect data for all three for a given amount of time"
   ]
  },
  {
   "cell_type": "markdown",
   "id": "9b0bd692",
   "metadata": {},
   "source": []
  },
  {
   "cell_type": "code",
   "execution_count": null,
   "id": "68883a03",
   "metadata": {},
   "outputs": [],
   "source": []
  },
  {
   "cell_type": "code",
   "execution_count": null,
   "id": "a7e46743",
   "metadata": {},
   "outputs": [],
   "source": [
    "# if you want to get data of 5 cities at once, what will you do?\n",
    "\n",
    "# use a for loop to iterate over a list of cities and store the data in a list of dictionaries\n",
    "city = \"Ambala\"\n",
    "\n",
    "weather_data_list = []\n",
    "\n",
    "for city in cities:\n",
    "    url = f\"http://api.openweathermap.org/data/2.5/weather?q={city}&appid={api_key}&units=metric\"\n",
    "    \n",
    "    response = requests.get(url)\n",
    "    print(response.status_code)\n",
    "\n",
    "    if response.status_code == 200:\n",
    "        data = response.json()\n",
    "\n",
    "    else:\n",
    "        print(\"City not found. Please check the name and try again.\")\n",
    "        exit()\n",
    "\n",
    "    # Extracting relevant data from the response\n",
    "    main_data = data['main']\n",
    "    temperature = main_data['temp']\n",
    "    pressure = main_data['pressure']\n",
    "    humidity = main_data['humidity']\n",
    "    timestamp = data['dt']\n",
    "\n",
    "    # Convert timestamp to datetime\n",
    "    import datetime\n",
    "    dt_object = datetime.datetime.fromtimestamp(timestamp)\n",
    "        \n",
    "    \n",
    "    weather_data = {\n",
    "        'City': city,\n",
    "        'Date and Time': dt_object.strftime(\"%Y-%m-%d %H:%M:%S\"),\n",
    "        'Temperature (°C)': temperature,\n",
    "        'Pressure (hPa)': pressure,\n",
    "        'Humidity (%)': humidity\n",
    "    }\n",
    "    weather_data_list.append(weather_data)\n",
    "\n",
    "df = pd.DataFrame(weather_data_list)\n",
    "df"
   ]
  },
  {
   "cell_type": "code",
   "execution_count": null,
   "id": "c8b56bf6",
   "metadata": {},
   "outputs": [],
   "source": []
  },
  {
   "cell_type": "code",
   "execution_count": null,
   "id": "c1572ec0",
   "metadata": {},
   "outputs": [],
   "source": []
  },
  {
   "cell_type": "code",
   "execution_count": null,
   "id": "d1a98053",
   "metadata": {},
   "outputs": [],
   "source": []
  },
  {
   "cell_type": "code",
   "execution_count": null,
   "id": "cd072b4e",
   "metadata": {},
   "outputs": [],
   "source": []
  },
  {
   "cell_type": "code",
   "execution_count": 19,
   "id": "470724f5",
   "metadata": {},
   "outputs": [
    {
     "data": {
      "text/html": [
       "<div>\n",
       "<style scoped>\n",
       "    .dataframe tbody tr th:only-of-type {\n",
       "        vertical-align: middle;\n",
       "    }\n",
       "\n",
       "    .dataframe tbody tr th {\n",
       "        vertical-align: top;\n",
       "    }\n",
       "\n",
       "    .dataframe thead th {\n",
       "        text-align: right;\n",
       "    }\n",
       "</style>\n",
       "<table border=\"1\" class=\"dataframe\">\n",
       "  <thead>\n",
       "    <tr style=\"text-align: right;\">\n",
       "      <th></th>\n",
       "      <th>Name</th>\n",
       "      <th>Age</th>\n",
       "    </tr>\n",
       "  </thead>\n",
       "  <tbody>\n",
       "    <tr>\n",
       "      <th>0</th>\n",
       "      <td>idrees</td>\n",
       "      <td>23</td>\n",
       "    </tr>\n",
       "    <tr>\n",
       "      <th>1</th>\n",
       "      <td>Ali</td>\n",
       "      <td>25</td>\n",
       "    </tr>\n",
       "    <tr>\n",
       "      <th>2</th>\n",
       "      <td>Ahmed</td>\n",
       "      <td>22</td>\n",
       "    </tr>\n",
       "    <tr>\n",
       "      <th>3</th>\n",
       "      <td>Sara</td>\n",
       "      <td>24</td>\n",
       "    </tr>\n",
       "  </tbody>\n",
       "</table>\n",
       "</div>"
      ],
      "text/plain": [
       "     Name  Age\n",
       "0  idrees   23\n",
       "1     Ali   25\n",
       "2   Ahmed   22\n",
       "3    Sara   24"
      ]
     },
     "execution_count": 19,
     "metadata": {},
     "output_type": "execute_result"
    }
   ],
   "source": [
    "import pandas as pd\n",
    "\n",
    "df_a = pd.DataFrame({\n",
    "    'Name': ['idrees', 'Ali', 'Ahmed', 'Sara'],\n",
    "    'Age': [23, 25, 22, 24]\n",
    "})\n",
    "df_a"
   ]
  },
  {
   "cell_type": "code",
   "execution_count": 20,
   "id": "156d14b4",
   "metadata": {},
   "outputs": [
    {
     "data": {
      "text/html": [
       "<div>\n",
       "<style scoped>\n",
       "    .dataframe tbody tr th:only-of-type {\n",
       "        vertical-align: middle;\n",
       "    }\n",
       "\n",
       "    .dataframe tbody tr th {\n",
       "        vertical-align: top;\n",
       "    }\n",
       "\n",
       "    .dataframe thead th {\n",
       "        text-align: right;\n",
       "    }\n",
       "</style>\n",
       "<table border=\"1\" class=\"dataframe\">\n",
       "  <thead>\n",
       "    <tr style=\"text-align: right;\">\n",
       "      <th></th>\n",
       "      <th>Name</th>\n",
       "      <th>Age</th>\n",
       "    </tr>\n",
       "  </thead>\n",
       "  <tbody>\n",
       "    <tr>\n",
       "      <th>0</th>\n",
       "      <td>Kirti</td>\n",
       "      <td>23</td>\n",
       "    </tr>\n",
       "    <tr>\n",
       "      <th>1</th>\n",
       "      <td>Deepika</td>\n",
       "      <td>25</td>\n",
       "    </tr>\n",
       "    <tr>\n",
       "      <th>2</th>\n",
       "      <td>Suhana</td>\n",
       "      <td>22</td>\n",
       "    </tr>\n",
       "    <tr>\n",
       "      <th>3</th>\n",
       "      <td>Neha</td>\n",
       "      <td>24</td>\n",
       "    </tr>\n",
       "  </tbody>\n",
       "</table>\n",
       "</div>"
      ],
      "text/plain": [
       "      Name  Age\n",
       "0    Kirti   23\n",
       "1  Deepika   25\n",
       "2   Suhana   22\n",
       "3     Neha   24"
      ]
     },
     "execution_count": 20,
     "metadata": {},
     "output_type": "execute_result"
    }
   ],
   "source": [
    "df_b = pd.DataFrame({\n",
    "    'Name': ['Kirti', 'Deepika', 'Suhana', 'Neha'],\n",
    "    'Age': [23, 25, 22, 24]\n",
    "})\n",
    "df_b"
   ]
  },
  {
   "cell_type": "code",
   "execution_count": 21,
   "id": "cb47adb3",
   "metadata": {},
   "outputs": [
    {
     "data": {
      "text/html": [
       "<div>\n",
       "<style scoped>\n",
       "    .dataframe tbody tr th:only-of-type {\n",
       "        vertical-align: middle;\n",
       "    }\n",
       "\n",
       "    .dataframe tbody tr th {\n",
       "        vertical-align: top;\n",
       "    }\n",
       "\n",
       "    .dataframe thead th {\n",
       "        text-align: right;\n",
       "    }\n",
       "</style>\n",
       "<table border=\"1\" class=\"dataframe\">\n",
       "  <thead>\n",
       "    <tr style=\"text-align: right;\">\n",
       "      <th></th>\n",
       "      <th>Name</th>\n",
       "      <th>Age</th>\n",
       "    </tr>\n",
       "  </thead>\n",
       "  <tbody>\n",
       "    <tr>\n",
       "      <th>0</th>\n",
       "      <td>idrees</td>\n",
       "      <td>23</td>\n",
       "    </tr>\n",
       "    <tr>\n",
       "      <th>1</th>\n",
       "      <td>Ali</td>\n",
       "      <td>25</td>\n",
       "    </tr>\n",
       "    <tr>\n",
       "      <th>2</th>\n",
       "      <td>Ahmed</td>\n",
       "      <td>22</td>\n",
       "    </tr>\n",
       "    <tr>\n",
       "      <th>3</th>\n",
       "      <td>Sara</td>\n",
       "      <td>24</td>\n",
       "    </tr>\n",
       "    <tr>\n",
       "      <th>0</th>\n",
       "      <td>Kirti</td>\n",
       "      <td>23</td>\n",
       "    </tr>\n",
       "    <tr>\n",
       "      <th>1</th>\n",
       "      <td>Deepika</td>\n",
       "      <td>25</td>\n",
       "    </tr>\n",
       "    <tr>\n",
       "      <th>2</th>\n",
       "      <td>Suhana</td>\n",
       "      <td>22</td>\n",
       "    </tr>\n",
       "    <tr>\n",
       "      <th>3</th>\n",
       "      <td>Neha</td>\n",
       "      <td>24</td>\n",
       "    </tr>\n",
       "  </tbody>\n",
       "</table>\n",
       "</div>"
      ],
      "text/plain": [
       "      Name  Age\n",
       "0   idrees   23\n",
       "1      Ali   25\n",
       "2    Ahmed   22\n",
       "3     Sara   24\n",
       "0    Kirti   23\n",
       "1  Deepika   25\n",
       "2   Suhana   22\n",
       "3     Neha   24"
      ]
     },
     "execution_count": 21,
     "metadata": {},
     "output_type": "execute_result"
    }
   ],
   "source": [
    "df_c = pd.concat([df_a,df_b])\n",
    "df_c"
   ]
  },
  {
   "cell_type": "code",
   "execution_count": null,
   "id": "a062ee39",
   "metadata": {},
   "outputs": [],
   "source": [
    "weather_data = {\n",
    "        \"City\": data[\"name\"],\n",
    "        \"Temperature (°C)\": data[\"main\"][\"temp\"],\n",
    "        \"Humidity (%)\": data[\"main\"][\"humidity\"],\n",
    "        \"Weather\": data[\"weather\"][0][\"description\"]\n",
    "    }\n",
    "    df = pd.DataFrame([weather_data])\n",
    "    print(df)"
   ]
  }
 ],
 "metadata": {
  "kernelspec": {
   "display_name": "base",
   "language": "python",
   "name": "python3"
  },
  "language_info": {
   "codemirror_mode": {
    "name": "ipython",
    "version": 3
   },
   "file_extension": ".py",
   "mimetype": "text/x-python",
   "name": "python",
   "nbconvert_exporter": "python",
   "pygments_lexer": "ipython3",
   "version": "3.12.4"
  }
 },
 "nbformat": 4,
 "nbformat_minor": 5
}
