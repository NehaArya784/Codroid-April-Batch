{
 "cells": [
  {
   "cell_type": "code",
   "execution_count": null,
   "id": "397f49d6",
   "metadata": {},
   "outputs": [],
   "source": [
    "# sample datasert of e-commerce transactions to simulate the above errors and missing values\n",
    "\n",
    "# create a dictionary with sample data of 20 transactions\n",
    "\n",
    "data = [\n",
    "    {\"Transaction id\": 100, \"Customer id\": 1, \"Product id\": 101, \"Quantity\": 2, \"Price\": 109.99, \"Date\": \"2023-01-01\", \"Payment method\": \"Credit Card\", \"Shipping address\": \"123 Main St, Cityville\"},\n",
    "    {\"Transaction id\": 101, \"Customer id\": 2, \"Product id\": 102, \"Quantity\": 1, \"Price\": 129.99, \"Date\": \"2023-01-02\", \"Payment method\": \"PayPal\", \"Shipping address\": \"456 Elm St, Townsville\"},\n",
    "    {\"Transaction id\": 102, \"Customer id\": 3, \"Product id\": 103, \"Quantity\": 3, \"Price\": 139.99, \"Date\": \"2023-01-03\", \"Payment method\": \"Credit Card\", \"Shipping address\": \"789 Oak St, Villageville\"},\n",
    "    {\"Transaction id\": 103, \"Customer id\": 4, \"Product id\": 104, \"Quantity\": 1, \"Price\": 149.99, \"Date\": \"2023-01-04\", \"Payment method\": \"Debit Card\", \"Shipping address\": \"101 Pine St, Hamletville\"},\n",
    "    {\"Transaction id\": 104, \"Customer id\": 5, \"Product id\": 105, \"Quantity\": 2, \"Price\": 159.99, \"Date\": \"2023-01-05\", \"Payment method\": \"Credit Card\", \"Shipping address\": \"202 Maple St, Boroughville\"},\n",
    "    {\"Transaction id\": 105, \"Customer id\": 6, \"Product id\": 106, \"Quantity\": 1, \"Price\": 1699999.99, \"Date\": \"2023-01-06\", \"Payment method\": \"PayPal\", \"Shipping address\": \"303 Birch St, Districtville\"},\n",
    "    {\"Transaction id\": 106, \"Customer id\": 7, \"Product id\": 107, \"Quantity\": 4, \"Price\": 70.99, \"Date\": \"2023-01-07\", \"Payment method\": \"Credit Card\", \"Shipping address\": None},\n",
    "    {\"Transaction id\": 107, \"Customer id\": 8, \"Product id\": 108, \"Quantity\": 1, \"Price\": 89.99, \"Date\": \"2023-01-08\", \"Payment method\": \"Debit Card\", \"Shipping address\": \"505 Spruce St, Sectorville\"},\n",
    "    {\"Transaction id\": 108, \"Customer id\": 9, \"Product id\": 109, \"Quantity\": 2, \"Price\": 99.99, \"Date\": \"2023-01-09\", \"Payment method\": \"Credit Card\", \"Shipping address\": \"606 Fir St, Zoneville\"},\n",
    "    {\"Transaction id\": 109, \"Customer id\": 10, \"Product id\": 110, \"Quantity\": 1, \"Price\": 109.99, \"Date\": \"2023-01-10\", \"Payment method\": \"PayPal\", \"Shipping address\": \"707 Willow St, AreaVille\"},\n",
    "    {\"Transaction id\": 110, \"Customer id\": 11, \"Product id\": 111, \"Quantity\": None, \"Price\": 119.99, \"Date\": \"2023-01-11\", \"Payment method\": \"Credit Card\", \"Shipping address\": \"808 Poplar St, Districtville\"},\n",
    "    {\"Transaction id\": 111, \"Customer id\": None, \"Product id\": 112, \"Quantity\": 1, \"Price\": None, \"Date\": \"2023-01-12\", \"Payment method\": \"Debit Card\", \"Shipping address\": \"909 Chestnut St, Cityville\"},\n",
    "    {\"Transaction id\": 112, \"Customer id\": 13, \"Product id\": 113, \"Quantity\": 2, \"Price\": 139.99, \"Date\": \"2023-01-13\", \"Payment method\": \"Credit Card\", \"Shipping address\": \"1010 Walnut St, Townsville\"},\n",
    "    {\"Transaction id\": 113, \"Customer id\": 14, \"Product id\": 114, \"Quantity\": 1, \"Price\": 149.99, \"Date\": \"2023-01-14\", \"Payment method\": \"PayPal\", \"Shipping address\": \"1111 Maple St, Villageville\"},\n",
    "    {\"Transaction id\": 114, \"Customer id\": 15, \"Product id\": 115, \"Quantity\": 2, \"Price\": 159.99, \"Date\": \"2023-01-15\", \"Payment method\": \"Credit Card\", \"Shipping address\": \"1212 Oak St, Hamletville\"},\n",
    "    {\"Transaction id\": 115, \"Customer id\": None, \"Product id\": 116, \"Quantity\": 1, \"Price\": 169.99, \"Date\": \"2023-01-16\", \"Payment method\": \"Debit Card\", \"Shipping address\": \"1313 Birch St, Boroughville\"},\n",
    "    {\"Transaction id\": 116, \"Customer id\": 17, \"Product id\": 117, \"Quantity\": 4, \"Price\": 179.99, \"Date\": \"2023-01-17\", \"Payment method\": \"Credit Card\", \"Shipping address\": \"1414 Cedar St, Districtville\"},\n",
    "    {\"Transaction id\": 117, \"Customer id\": 18, \"Product id\": 118, \"Quantity\": 1, \"Price\": 189.99, \"Date\": \"2023-01-18\", \"Payment method\": None, \"Shipping address\": \"1515 Fir St, Regionville\"},\n",
    "    {\"Transaction id\": 118, \"Customer id\": 19, \"Product id\": 119, \"Quantity\": 2, \"Price\": 199.99, \"Date\": \"2023-01-19\", \"Payment method\": \"Credit Card\", \"Shipping address\": \"1616 Spruce St, Sectorville\"},\n",
    "    {\"Transaction id\": 119, \"Customer id\": 20, \"Product id\": 120, \"Quantity\": 1, \"Price\": 209.99, \"Date\": \"2023-01-20\", \"Payment method\": \"Debit Card\", \"Shipping address\": \"1717 Willow St, Zoneville\"},\n",
    "    {\"Transaction id\": 119, \"Customer id\": 20, \"Product id\": 120, \"Quantity\": 1, \"Price\": 209.99, \"Date\": \"2023-01-20\", \"Payment method\": \"Debit Card\", \"Shipping address\": \"1717 Willow St, Zoneville\"}\n",
    "\n",
    "]"
   ]
  },
  {
   "cell_type": "code",
   "execution_count": null,
   "id": "63b994a2",
   "metadata": {},
   "outputs": [],
   "source": []
  }
 ],
 "metadata": {
  "language_info": {
   "name": "python"
  }
 },
 "nbformat": 4,
 "nbformat_minor": 5
}
