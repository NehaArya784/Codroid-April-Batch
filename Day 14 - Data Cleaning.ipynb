{
 "cells": [
  {
   "cell_type": "code",
   "execution_count": null,
   "id": "397f49d6",
   "metadata": {},
   "outputs": [],
   "source": [
    "# sample datasert of e-commerce transactions to simulate the above errors and missing values\n",
    "\n",
    "# create a dictionary with sample data of 20 transactions\n",
    "\n",
    "data = [\n",
    "    {\"Transaction id\": 100, \"Customer id\": 1, \"Product id\": 101, \"Quantity\": 2, \"Price\": 109.99, \"Date\": \"2023-01-01\", \"Payment method\": \"Credit Card\", \"Shipping address\": \"123 Main St, Cityville\"},\n",
    "    {\"Transaction id\": 101, \"Customer id\": 2, \"Product id\": 102, \"Quantity\": 1, \"Price\": 129.99, \"Date\": \"2023-01-02\", \"Payment method\": \"PayPal\", \"Shipping address\": \"456 Elm St, Townsville\"},\n",
    "    {\"Transaction id\": 102, \"Customer id\": 3, \"Product id\": 103, \"Quantity\": 3, \"Price\": 139.99, \"Date\": \"2023-01-03\", \"Payment method\": \"Credit Card\", \"Shipping address\": \"789 Oak St, Villageville\"},\n",
    "    {\"Transaction id\": 103, \"Customer id\": 4, \"Product id\": 104, \"Quantity\": 1, \"Price\": 149.99, \"Date\": \"2023-01-04\", \"Payment method\": \"Debit Card\", \"Shipping address\": \"101 Pine St, Hamletville\"},\n",
    "    {\"Transaction id\": 104, \"Customer id\": 5, \"Product id\": 105, \"Quantity\": 2, \"Price\": 159.99, \"Date\": \"2023-01-05\", \"Payment method\": \"Credit Card\", \"Shipping address\": \"202 Maple St, Boroughville\"},\n",
    "    {\"Transaction id\": 105, \"Customer id\": 6, \"Product id\": 106, \"Quantity\": 1, \"Price\": 1699999.99, \"Date\": \"2023-01-06\", \"Payment method\": \"PayPal\", \"Shipping address\": \"303 Birch St, Districtville\"},\n",
    "    {\"Transaction id\": 106, \"Customer id\": 7, \"Product id\": 107, \"Quantity\": 4, \"Price\": 70.99, \"Date\": \"2023-01-07\", \"Payment method\": \"Credit Card\", \"Shipping address\": None},\n",
    "    {\"Transaction id\": 107, \"Customer id\": 8, \"Product id\": 108, \"Quantity\": 1, \"Price\": 89.99, \"Date\": \"2023-01-08\", \"Payment method\": \"Debit Card\", \"Shipping address\": \"505 Spruce St, Sectorville\"},\n",
    "    {\"Transaction id\": 108, \"Customer id\": 9, \"Product id\": 109, \"Quantity\": 2, \"Price\": 99.99, \"Date\": \"2023-01-09\", \"Payment method\": \"Credit Card\", \"Shipping address\": \"606 Fir St, Zoneville\"},\n",
    "    {\"Transaction id\": 109, \"Customer id\": 10, \"Product id\": 110, \"Quantity\": 1, \"Price\": 109.99, \"Date\": \"2023-01-10\", \"Payment method\": \"PayPal\", \"Shipping address\": \"707 Willow St, AreaVille\"},\n",
    "    {\"Transaction id\": 110, \"Customer id\": 11, \"Product id\": 111, \"Quantity\": None, \"Price\": 119.99, \"Date\": \"2023-01-11\", \"Payment method\": \"Credit Card\", \"Shipping address\": \"808 Poplar St, Districtville\"},\n",
    "    {\"Transaction id\": 111, \"Customer id\": None, \"Product id\": 112, \"Quantity\": 1, \"Price\": None, \"Date\": \"2023-01-12\", \"Payment method\": \"Debit Card\", \"Shipping address\": \"909 Chestnut St, Cityville\"},\n",
    "    {\"Transaction id\": 112, \"Customer id\": 13, \"Product id\": 113, \"Quantity\": 2, \"Price\": 139.99, \"Date\": \"2023-01-13\", \"Payment method\": \"Credit Card\", \"Shipping address\": \"1010 Walnut St, Townsville\"},\n",
    "    {\"Transaction id\": 113, \"Customer id\": 14, \"Product id\": 114, \"Quantity\": 1, \"Price\": 149.99, \"Date\": \"2023-01-14\", \"Payment method\": \"PayPal\", \"Shipping address\": \"1111 Maple St, Villageville\"},\n",
    "    {\"Transaction id\": 114, \"Customer id\": 15, \"Product id\": 115, \"Quantity\": 2, \"Price\": 159.99, \"Date\": \"2023-01-15\", \"Payment method\": \"Credit Card\", \"Shipping address\": \"1212 Oak St, Hamletville\"},\n",
    "    {\"Transaction id\": 115, \"Customer id\": None, \"Product id\": 116, \"Quantity\": 1, \"Price\": 169.99, \"Date\": \"2023-01-16\", \"Payment method\": \"Debit Card\", \"Shipping address\": \"1313 Birch St, Boroughville\"},\n",
    "    {\"Transaction id\": 116, \"Customer id\": 17, \"Product id\": 117, \"Quantity\": 4, \"Price\": 179.99, \"Date\": \"2023-01-17\", \"Payment method\": \"Credit Card\", \"Shipping address\": \"1414 Cedar St, Districtville\"},\n",
    "    {\"Transaction id\": 117, \"Customer id\": 18, \"Product id\": 118, \"Quantity\": 1, \"Price\": 189.99, \"Date\": \"2023-01-18\", \"Payment method\": None, \"Shipping address\": \"1515 Fir St, Regionville\"},\n",
    "    {\"Transaction id\": 118, \"Customer id\": 19, \"Product id\": 119, \"Quantity\": 2, \"Price\": 199.99, \"Date\": \"2023-01-19\", \"Payment method\": \"Credit Card\", \"Shipping address\": \"1616 Spruce St, Sectorville\"},\n",
    "    {\"Transaction id\": 119, \"Customer id\": 20, \"Product id\": 120, \"Quantity\": 1, \"Price\": 209.99, \"Date\": \"2023-01-20\", \"Payment method\": \"Debit Card\", \"Shipping address\": \"1717 Willow St, Zoneville\"},\n",
    "    {\"Transaction id\": 119, \"Customer id\": 20, \"Product id\": 120, \"Quantity\": 1, \"Price\": 209.99, \"Date\": \"2023-01-20\", \"Payment method\": \"Debit Card\", \"Shipping address\": \"1717 Willow St, Zoneville\"}\n",
    "\n",
    "]"
   ]
  },
  {
   "cell_type": "code",
   "execution_count": 39,
   "id": "63b994a2",
   "metadata": {},
   "outputs": [],
   "source": [
    "agex = [25, 50,75, 28, 56, 40,35,55,61,30,38,40,200,60,45,50]"
   ]
  },
  {
   "cell_type": "code",
   "execution_count": 40,
   "id": "b48c8980",
   "metadata": {},
   "outputs": [
    {
     "data": {
      "image/png": "[encoded data removed]",
      "text/plain": [
       "<Figure size 640x480 with 1 Axes>"
      ]
     },
     "metadata": {},
     "output_type": "display_data"
    }
   ],
   "source": [
    "import matplotlib.pyplot as plt\n",
    "\n",
    "plt.boxplot(agex)\n",
    "plt.title(\"Boxplot of Age\")\n",
    "plt.ylabel(\"Agex\")\n",
    "plt.show()"
   ]
  },
  {
   "cell_type": "code",
   "execution_count": 54,
   "id": "93a0d404",
   "metadata": {},
   "outputs": [
    {
     "name": "stdout",
     "output_type": "stream",
     "text": [
      "Z-scores: [-0.77119483 -0.13906792  0.49305899 -0.6953396   0.01264254 -0.39191869\n",
      " -0.51834407 -0.01264254  0.13906792 -0.64476945 -0.44248884 -0.39191869\n",
      "  3.65369355  0.11378284 -0.2654933  -0.13906792] \n",
      "\n",
      "\n",
      "Outliers: [array([ True,  True,  True,  True,  True,  True,  True,  True,  True,\n",
      "        True,  True,  True, False,  True,  True,  True])]\n"
     ]
    }
   ],
   "source": [
    "import numpy as np\n",
    "from scipy import stats\n",
    "\n",
    "# Z score\n",
    "\n",
    "z_scores = stats.zscore(agex)\n",
    "print(\"Z-scores:\", z_scores, \"\\n\\n\")\n",
    "\n",
    "threshold = 3\n",
    "\n",
    "\n",
    "df_no_outliers = [(z_scores<threshold)&(z_scores>-threshold)]\n",
    "print(\"Outliers:\", df_no_outliers)"
   ]
  },
  {
   "cell_type": "code",
   "execution_count": null,
   "id": "05946a23",
   "metadata": {},
   "outputs": [],
   "source": []
  },
  {
   "cell_type": "code",
   "execution_count": null,
   "id": "76994f1f",
   "metadata": {},
   "outputs": [],
   "source": []
  },
  {
   "cell_type": "code",
   "execution_count": 107,
   "id": "5614bf66",
   "metadata": {},
   "outputs": [
    {
     "data": {
      "text/html": [
       "<div>\n",
       "<style scoped>\n",
       "    .dataframe tbody tr th:only-of-type {\n",
       "        vertical-align: middle;\n",
       "    }\n",
       "\n",
       "    .dataframe tbody tr th {\n",
       "        vertical-align: top;\n",
       "    }\n",
       "\n",
       "    .dataframe thead th {\n",
       "        text-align: right;\n",
       "    }\n",
       "</style>\n",
       "<table border=\"1\" class=\"dataframe\">\n",
       "  <thead>\n",
       "    <tr style=\"text-align: right;\">\n",
       "      <th></th>\n",
       "      <th>name</th>\n",
       "      <th>age</th>\n",
       "    </tr>\n",
       "  </thead>\n",
       "  <tbody>\n",
       "    <tr>\n",
       "      <th>0</th>\n",
       "      <td>Alice</td>\n",
       "      <td>25</td>\n",
       "    </tr>\n",
       "    <tr>\n",
       "      <th>1</th>\n",
       "      <td>Bob</td>\n",
       "      <td>30</td>\n",
       "    </tr>\n",
       "    <tr>\n",
       "      <th>2</th>\n",
       "      <td>Charlie</td>\n",
       "      <td>-20</td>\n",
       "    </tr>\n",
       "    <tr>\n",
       "      <th>3</th>\n",
       "      <td>David</td>\n",
       "      <td>40</td>\n",
       "    </tr>\n",
       "    <tr>\n",
       "      <th>4</th>\n",
       "      <td>Eve</td>\n",
       "      <td>45</td>\n",
       "    </tr>\n",
       "    <tr>\n",
       "      <th>5</th>\n",
       "      <td>Frank</td>\n",
       "      <td>500</td>\n",
       "    </tr>\n",
       "    <tr>\n",
       "      <th>6</th>\n",
       "      <td>Grace</td>\n",
       "      <td>55</td>\n",
       "    </tr>\n",
       "    <tr>\n",
       "      <th>7</th>\n",
       "      <td>Heidi</td>\n",
       "      <td>60</td>\n",
       "    </tr>\n",
       "  </tbody>\n",
       "</table>\n",
       "</div>"
      ],
      "text/plain": [
       "      name  age\n",
       "0    Alice   25\n",
       "1      Bob   30\n",
       "2  Charlie  -20\n",
       "3    David   40\n",
       "4      Eve   45\n",
       "5    Frank  500\n",
       "6    Grace   55\n",
       "7    Heidi   60"
      ]
     },
     "execution_count": 107,
     "metadata": {},
     "output_type": "execute_result"
    }
   ],
   "source": [
    "import pandas as pd\n",
    "data2 = {\n",
    "    \"name\": [\"Alice\", \"Bob\", \"Charlie\", \"David\", \"Eve\", \"Frank\", \"Grace\", \"Heidi\"],\n",
    "    \"age\": [25, 30, -20, 40, 45, 500, 55, 60]\n",
    "}\n",
    "\n",
    "df = pd.DataFrame(data2)\n",
    "df"
   ]
  },
  {
   "cell_type": "code",
   "execution_count": 108,
   "id": "f8cd8ec3",
   "metadata": {},
   "outputs": [
    {
     "data": {
      "image/png": "[encoded data removed]",
      "text/plain": [
       "<Figure size 640x480 with 1 Axes>"
      ]
     },
     "metadata": {},
     "output_type": "display_data"
    }
   ],
   "source": [
    "plt.boxplot(age)\n",
    "plt.title(\"Boxplot of Age\")\n",
    "plt.ylabel(\"Age\")\n",
    "plt.show()"
   ]
  },
  {
   "cell_type": "code",
   "execution_count": 109,
   "id": "3b1efdb9",
   "metadata": {},
   "outputs": [
    {
     "name": "stdout",
     "output_type": "stream",
     "text": [
      "Z-scores: 0   -0.428731\n",
      "1   -0.396677\n",
      "2   -0.717223\n",
      "3   -0.332567\n",
      "4   -0.300513\n",
      "5    2.616462\n",
      "6   -0.236403\n",
      "7   -0.204349\n",
      "Name: age, dtype: float64 \n",
      "\n",
      "\n",
      "Outliers: [0     True\n",
      "1     True\n",
      "2     True\n",
      "3     True\n",
      "4     True\n",
      "5    False\n",
      "6     True\n",
      "7     True\n",
      "Name: age, dtype: bool]\n"
     ]
    }
   ],
   "source": [
    "z_scores = stats.zscore(df[\"age\"])\n",
    "print(\"Z-scores:\", z_scores, \"\\n\\n\")\n",
    "\n",
    "threshold = 1\n",
    "\n",
    "\n",
    "df_no_outliers = [(z_scores<threshold)&(z_scores>-threshold)]\n",
    "print(\"Outliers:\", df_no_outliers)"
   ]
  },
  {
   "cell_type": "code",
   "execution_count": null,
   "id": "cd229ef0",
   "metadata": {},
   "outputs": [],
   "source": []
  },
  {
   "cell_type": "markdown",
   "id": "6fb58ef3",
   "metadata": {},
   "source": [
    "CAP of data \n",
    "\n",
    "## Winsorize"
   ]
  },
  {
   "cell_type": "code",
   "execution_count": 110,
   "id": "eae83943",
   "metadata": {},
   "outputs": [
    {
     "name": "stdout",
     "output_type": "stream",
     "text": [
      "Q3: 56.25 \n",
      "\n",
      "Q1: 28.75 \n",
      "\n",
      "IQR: 27.5 \n",
      "\n",
      "\n",
      "Lower : -12.5 \n",
      "\n",
      "Upper : 97.5 \n",
      "\n",
      "\n"
     ]
    }
   ],
   "source": [
    "import numpy as np\n",
    "\n",
    "# calculate the quantiles\n",
    "Q3 = df[\"age\"].quantile(0.75)\n",
    "Q1 = df[\"age\"].quantile(0.25)\n",
    "print(\"Q3:\", Q3, \"\\n\")\n",
    "print(\"Q1:\", Q1, \"\\n\")\n",
    "\n",
    "\n",
    "# calculate the IQR\n",
    "iqr = Q3 - Q1\n",
    "print(\"IQR:\", iqr, \"\\n\\n\")\n",
    "\n",
    "# set the boundaries for outliers\n",
    "# 1.5 = 2.7 standard deviations\n",
    "lower_limit = Q1 - 1.5 * iqr\n",
    "upper_limit = Q3 + 1.5 * iqr\n",
    "\n",
    "\n",
    "print(\"Lower :\", lower_limit, \"\\n\")\n",
    "print(\"Upper :\", upper_limit, \"\\n\\n\")"
   ]
  },
  {
   "cell_type": "markdown",
   "id": "5db79381",
   "metadata": {},
   "source": [
    "1.5, then according to the IQR method any data that lies beyond 2.7σ\n",
    "\n",
    "you're taking only upto 2.7 standard deviations"
   ]
  },
  {
   "cell_type": "code",
   "execution_count": 111,
   "id": "87b21a5d",
   "metadata": {},
   "outputs": [
    {
     "name": "stdout",
     "output_type": "stream",
     "text": [
      "Outliers:       name  age\n",
      "2  Charlie  -20\n",
      "5    Frank  500 \n",
      "\n",
      "\n"
     ]
    }
   ],
   "source": [
    "# identify the outliers\n",
    "outliers = df[(df[\"age\"] < lower_limit) | (df[\"age\"] > upper_limit)] # OR operator\n",
    "\n",
    "print(\"Outliers:\", outliers, \"\\n\\n\")"
   ]
  },
  {
   "cell_type": "code",
   "execution_count": 112,
   "id": "74db346d",
   "metadata": {},
   "outputs": [
    {
     "data": {
      "text/plain": [
       "0     25\n",
       "1     30\n",
       "2    -20\n",
       "3     40\n",
       "4     45\n",
       "5    500\n",
       "6     55\n",
       "7     60\n",
       "Name: age, dtype: int64"
      ]
     },
     "execution_count": 112,
     "metadata": {},
     "output_type": "execute_result"
    }
   ],
   "source": [
    "df[\"age\"]\n"
   ]
  },
  {
   "cell_type": "code",
   "execution_count": 113,
   "id": "730fb1c3",
   "metadata": {},
   "outputs": [
    {
     "data": {
      "text/html": [
       "<div>\n",
       "<style scoped>\n",
       "    .dataframe tbody tr th:only-of-type {\n",
       "        vertical-align: middle;\n",
       "    }\n",
       "\n",
       "    .dataframe tbody tr th {\n",
       "        vertical-align: top;\n",
       "    }\n",
       "\n",
       "    .dataframe thead th {\n",
       "        text-align: right;\n",
       "    }\n",
       "</style>\n",
       "<table border=\"1\" class=\"dataframe\">\n",
       "  <thead>\n",
       "    <tr style=\"text-align: right;\">\n",
       "      <th></th>\n",
       "      <th>name</th>\n",
       "      <th>age</th>\n",
       "    </tr>\n",
       "  </thead>\n",
       "  <tbody>\n",
       "    <tr>\n",
       "      <th>2</th>\n",
       "      <td>Charlie</td>\n",
       "      <td>-20</td>\n",
       "    </tr>\n",
       "    <tr>\n",
       "      <th>5</th>\n",
       "      <td>Frank</td>\n",
       "      <td>500</td>\n",
       "    </tr>\n",
       "  </tbody>\n",
       "</table>\n",
       "</div>"
      ],
      "text/plain": [
       "      name  age\n",
       "2  Charlie  -20\n",
       "5    Frank  500"
      ]
     },
     "execution_count": 113,
     "metadata": {},
     "output_type": "execute_result"
    }
   ],
   "source": [
    "outliers = df[(df[\"age\"] < lower_limit) | (df[\"age\"] > upper_limit) ] # OR operator\n",
    "outliers"
   ]
  },
  {
   "cell_type": "code",
   "execution_count": null,
   "id": "41be80f1",
   "metadata": {},
   "outputs": [],
   "source": []
  },
  {
   "cell_type": "code",
   "execution_count": null,
   "id": "9f6d1746",
   "metadata": {},
   "outputs": [],
   "source": []
  }
 ],
 "metadata": {
  "kernelspec": {
   "display_name": "base",
   "language": "python",
   "name": "python3"
  },
  "language_info": {
   "codemirror_mode": {
    "name": "ipython",
    "version": 3
   },
   "file_extension": ".py",
   "mimetype": "text/x-python",
   "name": "python",
   "nbconvert_exporter": "python",
   "pygments_lexer": "ipython3",
   "version": "3.12.4"
  }
 },
 "nbformat": 4,
 "nbformat_minor": 5
}
