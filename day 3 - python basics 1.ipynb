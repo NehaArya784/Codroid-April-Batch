{
 "cells": [
  {
   "cell_type": "code",
   "execution_count": 24,
   "id": "1c54bcdc",
   "metadata": {},
   "outputs": [
    {
     "data": {
      "text/plain": [
       "'this is text \"hello world\" in action'"
      ]
     },
     "execution_count": 24,
     "metadata": {},
     "output_type": "execute_result"
    }
   ],
   "source": [
    "'this is text \"hello world\" in action'"
   ]
  },
  {
   "cell_type": "code",
   "execution_count": 25,
   "id": "3eb17d7e",
   "metadata": {},
   "outputs": [
    {
     "name": "stdout",
     "output_type": "stream",
     "text": [
      "hellow worldo!\n",
      "this is text \"hello world\" in action\n"
     ]
    }
   ],
   "source": [
    "# comments\n",
    "print(\"hellow worldo!\")\n",
    "print('this is text \"hello world\" in action')"
   ]
  },
  {
   "cell_type": "code",
   "execution_count": 26,
   "id": "83d83fb5",
   "metadata": {},
   "outputs": [
    {
     "name": "stdout",
     "output_type": "stream",
     "text": [
      "<class 'str'>\n",
      "MidreesB idrees\n"
     ]
    }
   ],
   "source": [
    "# variables\n",
    "\n",
    "a = 10 # assigning a value to a\n",
    "a = 20 # reassign a value\n",
    "\n",
    "a = 'MidreesB'\n",
    "print(type(a))\n",
    "\n",
    "b = 'idrees'\n",
    "type(b)\n",
    "\n",
    "print(a,b)"
   ]
  },
  {
   "cell_type": "code",
   "execution_count": 31,
   "id": "bc9f04c3",
   "metadata": {},
   "outputs": [
    {
     "name": "stdout",
     "output_type": "stream",
     "text": [
      "idrees lives in Kashmir and he is 27 years old\n",
      "idrees lives in Kashmir and he is 27 years old\n",
      "idrees lives in Kashmir and he is 27 years old\n"
     ]
    }
   ],
   "source": [
    "name = 'idrees'\n",
    "address = 'Kashmir'\n",
    "age = 27\n",
    "\n",
    "print(f\"{name} lives in {address} and he is {age} years old\") # using a format literal to place variables\n",
    "print(\"{} lives in {} and he is {} years old\".format(name,address,age)) # format specifier .format method\n",
    "print(\"%s lives in %s and he is %d years old\"%(name, address,age))"
   ]
  },
  {
   "cell_type": "code",
   "execution_count": 42,
   "id": "8d3f4fdc",
   "metadata": {},
   "outputs": [],
   "source": [
    "d = 18"
   ]
  },
  {
   "cell_type": "markdown",
   "id": "4ecb807f",
   "metadata": {},
   "source": [
    "Keywords: for print if else "
   ]
  },
  {
   "cell_type": "code",
   "execution_count": 55,
   "id": "42407a5b",
   "metadata": {},
   "outputs": [
    {
     "name": "stdout",
     "output_type": "stream",
     "text": [
      "True\n"
     ]
    }
   ],
   "source": [
    "#integer = int(input()) # type casting \n",
    "#print(integer)\n",
    "\n",
    "#floating = float(input())\n",
    "#print(floating)\n",
    "\n",
    "#stringtype = str(input())\n",
    "#print(stringtype)\n",
    "\n",
    "boolean = bool(input())\n",
    "print(boolean)"
   ]
  },
  {
   "cell_type": "code",
   "execution_count": null,
   "id": "20fa008c",
   "metadata": {},
   "outputs": [],
   "source": []
  },
  {
   "cell_type": "code",
   "execution_count": null,
   "id": "b634f115",
   "metadata": {},
   "outputs": [],
   "source": []
  }
 ],
 "metadata": {
  "kernelspec": {
   "display_name": "base",
   "language": "python",
   "name": "python3"
  },
  "language_info": {
   "codemirror_mode": {
    "name": "ipython",
    "version": 3
   },
   "file_extension": ".py",
   "mimetype": "text/x-python",
   "name": "python",
   "nbconvert_exporter": "python",
   "pygments_lexer": "ipython3",
   "version": "3.12.4"
  }
 },
 "nbformat": 4,
 "nbformat_minor": 5
}
