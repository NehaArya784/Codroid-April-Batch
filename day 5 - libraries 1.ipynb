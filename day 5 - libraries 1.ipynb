{
 "cells": [
  {
   "cell_type": "markdown",
   "id": "1f29c686",
   "metadata": {},
   "source": [
    "Data - analysis\n",
    "\n",
    "Information \n",
    "\n",
    "Weather information - \n",
    "\n",
    "day time temp pressure location ... \n",
    "\n",
    "Predictive analysis - analysing data to make future predictions\n",
    "\n",
    "\n",
    "\n"
   ]
  },
  {
   "cell_type": "markdown",
   "id": "859086cf",
   "metadata": {},
   "source": [
    "hard coding - delibrately writing lines of code by yourself without any assistance\n",
    "\n",
    "\n",
    "arrays - C Cpp\n",
    "\n",
    "python arrays???\n",
    "\n",
    "inbuilt datastructure \n",
    "\n",
    "list an array?\n",
    "\n",
    "list = [1,2,3,4,5]\n",
    "\n"
   ]
  },
  {
   "cell_type": "code",
   "execution_count": null,
   "id": "ee27b3dc",
   "metadata": {},
   "outputs": [
    {
     "data": {
      "text/plain": [
       "list"
      ]
     },
     "execution_count": 4,
     "metadata": {},
     "output_type": "execute_result"
    }
   ],
   "source": [
    "list = [[1,2,3,4,5],[1,2,3,4,5]]\n",
    "\n",
    "\n",
    "type(list)"
   ]
  },
  {
   "cell_type": "code",
   "execution_count": 10,
   "id": "33c589bf",
   "metadata": {},
   "outputs": [],
   "source": [
    "import numpy as np\n",
    "\n"
   ]
  },
  {
   "cell_type": "code",
   "execution_count": null,
   "id": "72af94d5",
   "metadata": {},
   "outputs": [
    {
     "name": "stdout",
     "output_type": "stream",
     "text": [
      "[[[1 2]\n",
      "  [1 2]]\n",
      "\n",
      " [[1 2]\n",
      "  [1 2]]]\n"
     ]
    }
   ],
   "source": [
    "#numpy\n",
    "\n",
    "list = np.array([     [[1,2],[1,2]],      [[1,2],[1,2]]    ])\n",
    "\n",
    "print(list)"
   ]
  },
  {
   "cell_type": "code",
   "execution_count": 36,
   "id": "16fc0dc9",
   "metadata": {},
   "outputs": [
    {
     "name": "stdout",
     "output_type": "stream",
     "text": [
      "[1 2 3] \n",
      "\n",
      "[1 2 3] \n",
      "\n",
      "[[1 2 3]\n",
      " [4 5 6]] \n",
      "\n",
      "[[[ 1  2  3]\n",
      "  [ 4  5  6]]\n",
      "\n",
      " [[ 7  8  9]\n",
      "  [10 11 12]]] \n",
      "\n"
     ]
    }
   ],
   "source": [
    "arr1 = np.array([1,2,3])\n",
    "arr2 = np.array([1,2,3])\n",
    "arr3 = np.array([1,2,3,5,6,7,8,9,10])\n",
    "\n",
    "arr2D = np.array([[1,2,3],[4,5,6]])\n",
    "arr3D = np.array([[[1,2,3],[4,5,6]],[[7,8,9],[10,11,12]]])\n",
    "\n",
    "print(arr1,\"\\n\")\n",
    "\n",
    "print(arr2,\"\\n\")\n",
    "\n",
    "print(arr2D,\"\\n\")\n",
    "\n",
    "print(arr3D,\"\\n\")"
   ]
  },
  {
   "cell_type": "code",
   "execution_count": 24,
   "id": "c7acecc3",
   "metadata": {},
   "outputs": [
    {
     "name": "stdout",
     "output_type": "stream",
     "text": [
      "[2 4 6]\n",
      "[0 0 0]\n",
      "[1 4 9]\n",
      "[1. 1. 1.]\n"
     ]
    }
   ],
   "source": [
    "arraySum = arr1 + arr2 # element-wise addition\n",
    "arrayDiff = arr1 - arr2 # element-wise subtraction\n",
    "arrayProduct = arr1 * arr2 # element-wise multiplication\n",
    "arrayQuotient = arr1 / arr2 # element-wise division\n",
    "\n",
    "print(arraySum)\n",
    "print(arrayDiff)    \n",
    "print(arrayProduct)\n",
    "print(arrayQuotient)\n"
   ]
  },
  {
   "cell_type": "code",
   "execution_count": 33,
   "id": "edaed12f",
   "metadata": {},
   "outputs": [
    {
     "name": "stdout",
     "output_type": "stream",
     "text": [
      "(3,)\n",
      "(2, 3)\n",
      "(2, 2, 3)\n",
      "1\n",
      "2\n",
      "3\n"
     ]
    }
   ],
   "source": [
    "# array properties\n",
    "print(arr1.shape) # shape of the array\n",
    "print(arr2D.shape) # shape of the 2D array\n",
    "print(arr3D.shape) # shape of the 3D array\n",
    "\n",
    "print(arr1.ndim) # number of dimensions of the array\n",
    "print(arr2D.ndim) # number of dimensions of the 2D array\n",
    "print(arr3D.ndim) # number of dimensions of the 3D array\n"
   ]
  },
  {
   "cell_type": "code",
   "execution_count": null,
   "id": "881ac9a0",
   "metadata": {},
   "outputs": [
    {
     "name": "stdout",
     "output_type": "stream",
     "text": [
      "[1 5 8]\n"
     ]
    }
   ],
   "source": [
    "# slicing\n",
    "\n",
    "print(arr3[0:10:3]) # slicing the array from index 0 to 10 with a step of 3  \n",
    "\n",
    "# array[start:stop:step]"
   ]
  },
  {
   "cell_type": "code",
   "execution_count": 49,
   "id": "6321e4fc",
   "metadata": {},
   "outputs": [
    {
     "name": "stdout",
     "output_type": "stream",
     "text": [
      "0    2\n",
      "1    2\n",
      "2    2\n",
      "3    3\n",
      "4    4\n",
      "5    5\n",
      "dtype: int64\n"
     ]
    }
   ],
   "source": [
    "import pandas as pd\n",
    "\n",
    "# vector \n",
    "data = [2,2,2,3,4,5]\n",
    "\n",
    "series = pd.Series(data) # index is auto-generated\n",
    "print(series)"
   ]
  },
  {
   "cell_type": "code",
   "execution_count": 57,
   "id": "02adcca0",
   "metadata": {},
   "outputs": [
    {
     "name": "stdout",
     "output_type": "stream",
     "text": [
      "   a  b  c   d   e\n",
      "0  1  4  7  10  13\n",
      "1  2  5  8  11  14\n",
      "2  3  6  9  12  15\n"
     ]
    }
   ],
   "source": [
    "data = {\n",
    "    'a': [1,2,3],    \n",
    "    'b': [4,5,6],\n",
    "    'c': [7,8,9],\n",
    "    'd': [10,11,12],\n",
    "    'e': [13,14,15],\n",
    "}\n",
    "\n",
    "df = pd.DataFrame(data) # \n",
    "print(df)"
   ]
  },
  {
   "cell_type": "code",
   "execution_count": 64,
   "id": "acd5fc94",
   "metadata": {},
   "outputs": [],
   "source": [
    "df.to_csv('data.csv') # save the dataframe to a csv file"
   ]
  },
  {
   "cell_type": "code",
   "execution_count": 62,
   "id": "5fedea4d",
   "metadata": {},
   "outputs": [
    {
     "name": "stdout",
     "output_type": "stream",
     "text": [
      "   c   d   e\n",
      "0  7  10  13\n",
      "1  8  11  14\n",
      "2  9  12  15\n"
     ]
    }
   ],
   "source": [
    "df1 = df.drop(columns=['a','b']) # drop columns a and b\n",
    "print(df1)"
   ]
  },
  {
   "cell_type": "code",
   "execution_count": 65,
   "id": "cfe1779c",
   "metadata": {},
   "outputs": [
    {
     "name": "stdout",
     "output_type": "stream",
     "text": [
      "   Unnamed: 0  a  b  c   d   e\n",
      "0           0  1  4  7  10  13\n",
      "1           1  2  5  8  11  14\n",
      "2           2  3  6  9  12  15\n"
     ]
    }
   ],
   "source": [
    "df3 = pd.read_csv('data.csv') # read csv file\n",
    "print(df3)"
   ]
  },
  {
   "cell_type": "code",
   "execution_count": null,
   "id": "f434a6bc",
   "metadata": {},
   "outputs": [],
   "source": []
  }
 ],
 "metadata": {
  "kernelspec": {
   "display_name": "base",
   "language": "python",
   "name": "python3"
  },
  "language_info": {
   "codemirror_mode": {
    "name": "ipython",
    "version": 3
   },
   "file_extension": ".py",
   "mimetype": "text/x-python",
   "name": "python",
   "nbconvert_exporter": "python",
   "pygments_lexer": "ipython3",
   "version": "3.12.4"
  }
 },
 "nbformat": 4,
 "nbformat_minor": 5
}
