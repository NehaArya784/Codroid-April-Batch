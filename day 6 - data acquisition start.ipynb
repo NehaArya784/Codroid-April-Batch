{
 "cells": [
  {
   "cell_type": "code",
   "execution_count": 8,
   "id": "4aaca379",
   "metadata": {},
   "outputs": [],
   "source": [
    "# python - csv\n",
    "\n",
    "header = ['name', 'age', 'city'] # list of column names\n",
    "\n",
    "# format - schema - name age city\n",
    "\n",
    "data = [\n",
    "    ['Alice', 30, 'New York'],\n",
    "    ['Bob', 25, 'Los Angeles'],\n",
    "    ['Charlie', 35, 'Chicago'],\n",
    "    ['David', 28, 'Houston'],\n",
    "    ['Eve', 22, 'Phoenix'],\n",
    "    ['Frank', 40, 'Philadelphia'],\n",
    "    ['Grace', 29, 'San Francisco'],\n",
    "    ['Hannah', 31, 'Seattle'],\n",
    "    ['Ian', 27, 'Boston'],\n",
    "    ['Judy', 33, 'Miami'],\n",
    "    ['Kevin', 26, 'Dallas'],\n",
    "    ['Laura', 32, 'Atlanta'],\n",
    "    ['Mike', 24, 'Denver'],\n",
    "    ['Nina', 38, 'San Diego'],\n",
    "    ['Oscar', 36, 'Portland'],\n",
    "    ['Paula', 23, 'Austin'],\n",
    "    ['Quentin', 34, 'Baltimore'],\n",
    "    ['Rachel', 30, 'Charlotte'],\n",
    "    ['Steve', 29, 'Detroit'],\n",
    "    ['Tina', 28, 'Indianapolis'],\n",
    "    ['Uma', 37, 'San Antonio']\n",
    "    ]\n",
    "\n"
   ]
  },
  {
   "cell_type": "code",
   "execution_count": 14,
   "id": "9ebb8609",
   "metadata": {},
   "outputs": [
    {
     "data": {
      "text/plain": [
       "(18,)"
      ]
     },
     "execution_count": 14,
     "metadata": {},
     "output_type": "execute_result"
    }
   ],
   "source": [
    "type(data)\n",
    "\n",
    "import numpy as np\n",
    "# numpy - array - 2D array - matrix\n",
    "# structured data - tablular data - rows and columns\n",
    "\n",
    "np.shape(data)\n",
    "# shape - 5 rows, 3 columns\n",
    "\n"
   ]
  },
  {
   "cell_type": "code",
   "execution_count": 10,
   "id": "ba36bbed",
   "metadata": {},
   "outputs": [
    {
     "name": "stdout",
     "output_type": "stream",
     "text": [
      "CSV file created successfully!\n"
     ]
    }
   ],
   "source": [
    "import csv\n",
    "\n",
    "# create a CSV file - write data to it\n",
    "\n",
    "with open('people.csv', mode='w', newline='') as file:\n",
    "    \n",
    "    writer = csv.writer(file)  # create a CSV writer object\n",
    "\n",
    "    writer.writerow(header)  # write the header row\n",
    "\n",
    "    for row in data:\n",
    "        writer.writerow(row)  # write each data row to the CSV file\n",
    "\n",
    "print(\"CSV file created successfully!\")"
   ]
  },
  {
   "cell_type": "code",
   "execution_count": 13,
   "id": "dc67712e",
   "metadata": {},
   "outputs": [],
   "source": [
    "data = [\n",
    "    {'name': 'Alice', 'age': 30, 'city': 'New York'},\n",
    "    {'name': 'Bob', 'age': 25, 'city': 'Los Angeles'},\n",
    "    {'name': 'Charlie', 'age': 35, 'city': 'Chicago'},\n",
    "    {'name': 'David', 'age': 28, 'city': 'Houston'},\n",
    "    {'name': 'Eve', 'age': 22, 'city': 'Phoenix'},\n",
    "    {'name': 'Frank', 'age': 40, 'city': 'Philadelphia'},\n",
    "    {'name': 'Grace', 'age': 29, 'city': 'San Francisco'},\n",
    "    {'name': 'Hannah', 'age': 31, 'city': 'Seattle'},\n",
    "    {'name': 'Ian', 'age': 27, 'city': 'Boston'},\n",
    "    {'name': 'Judy', 'age': 33, 'city': 'Miami'},\n",
    "    {'name': 'Kevin', 'age': 26, 'city': 'Dallas'},\n",
    "    {'name': 'Laura', 'age': 32, 'city': 'Atlanta'},\n",
    "    {'name': 'Mike', 'age': 24, 'city': 'Denver'},\n",
    "    {'name': 'Nina', 'age': 38, 'city': 'San Diego'},\n",
    "    {'name': 'Oscar', 'age': 36, 'city': 'Portland'},\n",
    "    {'name': 'Paula', 'age': 23, 'city': 'Austin'},\n",
    "    {'name': 'Quentin', 'age': 34, 'city': 'Baltimore'},\n",
    "    {'name': 'Rachel', 'age': 30, 'city': \"Charlotte\"},\n",
    "]"
   ]
  },
  {
   "cell_type": "code",
   "execution_count": null,
   "id": "969fd3f3",
   "metadata": {},
   "outputs": [
    {
     "name": "stdout",
     "output_type": "stream",
     "text": [
      "JSON file created successfully!\n"
     ]
    }
   ],
   "source": [
    "import json\n",
    "\n",
    "# create a JSON file - write data to it\n",
    "with open('people.json', 'w') as file:\n",
    "    json.dump(data, file, indent=4)  # write the data to the JSON file\n",
    "    \n",
    "print(\"JSON file created successfully!\")"
   ]
  },
  {
   "cell_type": "code",
   "execution_count": 17,
   "id": "71f055e0",
   "metadata": {},
   "outputs": [],
   "source": [
    "# SQLite - database - create a table - insert data - query data \n",
    "\n",
    "import sqlite3"
   ]
  },
  {
   "cell_type": "code",
   "execution_count": null,
   "id": "2c638a92",
   "metadata": {},
   "outputs": [],
   "source": [
    "# postgresql - database - create a table - insert data - query data\n",
    "\n",
    "import psycopg2"
   ]
  },
  {
   "cell_type": "code",
   "execution_count": null,
   "id": "03baf323",
   "metadata": {},
   "outputs": [],
   "source": []
  },
  {
   "cell_type": "code",
   "execution_count": null,
   "id": "5cd888ff",
   "metadata": {},
   "outputs": [],
   "source": []
  }
 ],
 "metadata": {
  "kernelspec": {
   "display_name": "base",
   "language": "python",
   "name": "python3"
  },
  "language_info": {
   "codemirror_mode": {
    "name": "ipython",
    "version": 3
   },
   "file_extension": ".py",
   "mimetype": "text/x-python",
   "name": "python",
   "nbconvert_exporter": "python",
   "pygments_lexer": "ipython3",
   "version": "3.12.4"
  }
 },
 "nbformat": 4,
 "nbformat_minor": 5
}
